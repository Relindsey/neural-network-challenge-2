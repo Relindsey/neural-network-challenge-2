{
  "cells": [
    {
      "cell_type": "markdown",
      "metadata": {
        "id": "alIIEHibGc3M"
      },
      "source": [
        "## Part 1: Preprocessing"
      ]
    },
    {
      "cell_type": "code",
      "execution_count": 330,
      "metadata": {
        "colab": {
          "base_uri": "https://localhost:8080/",
          "height": 325
        },
        "id": "6eDUJ4NtGc3P",
        "outputId": "2480098c-135c-4cbf-9552-018494ee8ff5"
      },
      "outputs": [
        {
          "data": {
            "text/html": [
              "<div>\n",
              "<style scoped>\n",
              "    .dataframe tbody tr th:only-of-type {\n",
              "        vertical-align: middle;\n",
              "    }\n",
              "\n",
              "    .dataframe tbody tr th {\n",
              "        vertical-align: top;\n",
              "    }\n",
              "\n",
              "    .dataframe thead th {\n",
              "        text-align: right;\n",
              "    }\n",
              "</style>\n",
              "<table border=\"1\" class=\"dataframe\">\n",
              "  <thead>\n",
              "    <tr style=\"text-align: right;\">\n",
              "      <th></th>\n",
              "      <th>Age</th>\n",
              "      <th>Attrition</th>\n",
              "      <th>BusinessTravel</th>\n",
              "      <th>Department</th>\n",
              "      <th>DistanceFromHome</th>\n",
              "      <th>Education</th>\n",
              "      <th>EducationField</th>\n",
              "      <th>EnvironmentSatisfaction</th>\n",
              "      <th>HourlyRate</th>\n",
              "      <th>JobInvolvement</th>\n",
              "      <th>...</th>\n",
              "      <th>PerformanceRating</th>\n",
              "      <th>RelationshipSatisfaction</th>\n",
              "      <th>StockOptionLevel</th>\n",
              "      <th>TotalWorkingYears</th>\n",
              "      <th>TrainingTimesLastYear</th>\n",
              "      <th>WorkLifeBalance</th>\n",
              "      <th>YearsAtCompany</th>\n",
              "      <th>YearsInCurrentRole</th>\n",
              "      <th>YearsSinceLastPromotion</th>\n",
              "      <th>YearsWithCurrManager</th>\n",
              "    </tr>\n",
              "  </thead>\n",
              "  <tbody>\n",
              "    <tr>\n",
              "      <th>0</th>\n",
              "      <td>41</td>\n",
              "      <td>Yes</td>\n",
              "      <td>Travel_Rarely</td>\n",
              "      <td>Sales</td>\n",
              "      <td>1</td>\n",
              "      <td>2</td>\n",
              "      <td>Life Sciences</td>\n",
              "      <td>2</td>\n",
              "      <td>94</td>\n",
              "      <td>3</td>\n",
              "      <td>...</td>\n",
              "      <td>3</td>\n",
              "      <td>1</td>\n",
              "      <td>0</td>\n",
              "      <td>8</td>\n",
              "      <td>0</td>\n",
              "      <td>1</td>\n",
              "      <td>6</td>\n",
              "      <td>4</td>\n",
              "      <td>0</td>\n",
              "      <td>5</td>\n",
              "    </tr>\n",
              "    <tr>\n",
              "      <th>1</th>\n",
              "      <td>49</td>\n",
              "      <td>No</td>\n",
              "      <td>Travel_Frequently</td>\n",
              "      <td>Research &amp; Development</td>\n",
              "      <td>8</td>\n",
              "      <td>1</td>\n",
              "      <td>Life Sciences</td>\n",
              "      <td>3</td>\n",
              "      <td>61</td>\n",
              "      <td>2</td>\n",
              "      <td>...</td>\n",
              "      <td>4</td>\n",
              "      <td>4</td>\n",
              "      <td>1</td>\n",
              "      <td>10</td>\n",
              "      <td>3</td>\n",
              "      <td>3</td>\n",
              "      <td>10</td>\n",
              "      <td>7</td>\n",
              "      <td>1</td>\n",
              "      <td>7</td>\n",
              "    </tr>\n",
              "    <tr>\n",
              "      <th>2</th>\n",
              "      <td>37</td>\n",
              "      <td>Yes</td>\n",
              "      <td>Travel_Rarely</td>\n",
              "      <td>Research &amp; Development</td>\n",
              "      <td>2</td>\n",
              "      <td>2</td>\n",
              "      <td>Other</td>\n",
              "      <td>4</td>\n",
              "      <td>92</td>\n",
              "      <td>2</td>\n",
              "      <td>...</td>\n",
              "      <td>3</td>\n",
              "      <td>2</td>\n",
              "      <td>0</td>\n",
              "      <td>7</td>\n",
              "      <td>3</td>\n",
              "      <td>3</td>\n",
              "      <td>0</td>\n",
              "      <td>0</td>\n",
              "      <td>0</td>\n",
              "      <td>0</td>\n",
              "    </tr>\n",
              "    <tr>\n",
              "      <th>3</th>\n",
              "      <td>33</td>\n",
              "      <td>No</td>\n",
              "      <td>Travel_Frequently</td>\n",
              "      <td>Research &amp; Development</td>\n",
              "      <td>3</td>\n",
              "      <td>4</td>\n",
              "      <td>Life Sciences</td>\n",
              "      <td>4</td>\n",
              "      <td>56</td>\n",
              "      <td>3</td>\n",
              "      <td>...</td>\n",
              "      <td>3</td>\n",
              "      <td>3</td>\n",
              "      <td>0</td>\n",
              "      <td>8</td>\n",
              "      <td>3</td>\n",
              "      <td>3</td>\n",
              "      <td>8</td>\n",
              "      <td>7</td>\n",
              "      <td>3</td>\n",
              "      <td>0</td>\n",
              "    </tr>\n",
              "    <tr>\n",
              "      <th>4</th>\n",
              "      <td>27</td>\n",
              "      <td>No</td>\n",
              "      <td>Travel_Rarely</td>\n",
              "      <td>Research &amp; Development</td>\n",
              "      <td>2</td>\n",
              "      <td>1</td>\n",
              "      <td>Medical</td>\n",
              "      <td>1</td>\n",
              "      <td>40</td>\n",
              "      <td>3</td>\n",
              "      <td>...</td>\n",
              "      <td>3</td>\n",
              "      <td>4</td>\n",
              "      <td>1</td>\n",
              "      <td>6</td>\n",
              "      <td>3</td>\n",
              "      <td>3</td>\n",
              "      <td>2</td>\n",
              "      <td>2</td>\n",
              "      <td>2</td>\n",
              "      <td>2</td>\n",
              "    </tr>\n",
              "  </tbody>\n",
              "</table>\n",
              "<p>5 rows × 27 columns</p>\n",
              "</div>"
            ],
            "text/plain": [
              "   Age Attrition     BusinessTravel              Department  DistanceFromHome  \\\n",
              "0   41       Yes      Travel_Rarely                   Sales                 1   \n",
              "1   49        No  Travel_Frequently  Research & Development                 8   \n",
              "2   37       Yes      Travel_Rarely  Research & Development                 2   \n",
              "3   33        No  Travel_Frequently  Research & Development                 3   \n",
              "4   27        No      Travel_Rarely  Research & Development                 2   \n",
              "\n",
              "   Education EducationField  EnvironmentSatisfaction  HourlyRate  \\\n",
              "0          2  Life Sciences                        2          94   \n",
              "1          1  Life Sciences                        3          61   \n",
              "2          2          Other                        4          92   \n",
              "3          4  Life Sciences                        4          56   \n",
              "4          1        Medical                        1          40   \n",
              "\n",
              "   JobInvolvement  ...  PerformanceRating RelationshipSatisfaction  \\\n",
              "0               3  ...                  3                        1   \n",
              "1               2  ...                  4                        4   \n",
              "2               2  ...                  3                        2   \n",
              "3               3  ...                  3                        3   \n",
              "4               3  ...                  3                        4   \n",
              "\n",
              "   StockOptionLevel TotalWorkingYears  TrainingTimesLastYear WorkLifeBalance  \\\n",
              "0                 0                 8                      0               1   \n",
              "1                 1                10                      3               3   \n",
              "2                 0                 7                      3               3   \n",
              "3                 0                 8                      3               3   \n",
              "4                 1                 6                      3               3   \n",
              "\n",
              "   YearsAtCompany  YearsInCurrentRole  YearsSinceLastPromotion  \\\n",
              "0               6                   4                        0   \n",
              "1              10                   7                        1   \n",
              "2               0                   0                        0   \n",
              "3               8                   7                        3   \n",
              "4               2                   2                        2   \n",
              "\n",
              "   YearsWithCurrManager  \n",
              "0                     5  \n",
              "1                     7  \n",
              "2                     0  \n",
              "3                     0  \n",
              "4                     2  \n",
              "\n",
              "[5 rows x 27 columns]"
            ]
          },
          "execution_count": 330,
          "metadata": {},
          "output_type": "execute_result"
        }
      ],
      "source": [
        "# Import our dependencies\n",
        "from sklearn.model_selection import train_test_split\n",
        "from sklearn.preprocessing import StandardScaler\n",
        "import pandas as pd\n",
        "import numpy as np\n",
        "import tensorflow as tf\n",
        "from tensorflow.keras.layers import Input, Dense, concatenate\n",
        "from tensorflow.keras.models import Model\n",
        "from tensorflow.keras import layers\n",
        "\n",
        "#  Import and read the attrition data\n",
        "attrition_df = pd.read_csv('https://static.bc-edx.com/ai/ail-v-1-0/m19/lms/datasets/attrition.csv')\n",
        "attrition_df.head()"
      ]
    },
    {
      "cell_type": "code",
      "execution_count": 331,
      "metadata": {
        "colab": {
          "base_uri": "https://localhost:8080/"
        },
        "id": "g22aQSY4Gc3Q",
        "outputId": "1f5c13c1-b981-4e40-a7ed-dd3fe6f1b81e"
      },
      "outputs": [
        {
          "data": {
            "text/plain": [
              "Age                         43\n",
              "Attrition                    2\n",
              "BusinessTravel               3\n",
              "Department                   3\n",
              "DistanceFromHome            29\n",
              "Education                    5\n",
              "EducationField               6\n",
              "EnvironmentSatisfaction      4\n",
              "HourlyRate                  71\n",
              "JobInvolvement               4\n",
              "JobLevel                     5\n",
              "JobRole                      9\n",
              "JobSatisfaction              4\n",
              "MaritalStatus                3\n",
              "NumCompaniesWorked          10\n",
              "OverTime                     2\n",
              "PercentSalaryHike           15\n",
              "PerformanceRating            2\n",
              "RelationshipSatisfaction     4\n",
              "StockOptionLevel             4\n",
              "TotalWorkingYears           40\n",
              "TrainingTimesLastYear        7\n",
              "WorkLifeBalance              4\n",
              "YearsAtCompany              37\n",
              "YearsInCurrentRole          19\n",
              "YearsSinceLastPromotion     16\n",
              "YearsWithCurrManager        18\n",
              "dtype: int64"
            ]
          },
          "execution_count": 331,
          "metadata": {},
          "output_type": "execute_result"
        }
      ],
      "source": [
        "# Determine the number of unique values in each column.\n",
        "attrition_df.nunique()"
      ]
    },
    {
      "cell_type": "code",
      "execution_count": 332,
      "metadata": {
        "id": "50vMgBEnJbfM"
      },
      "outputs": [
        {
          "data": {
            "text/plain": [
              "Department\n",
              "Research & Development    961\n",
              "Sales                     446\n",
              "Human Resources            63\n",
              "Name: count, dtype: int64"
            ]
          },
          "execution_count": 332,
          "metadata": {},
          "output_type": "execute_result"
        }
      ],
      "source": [
        "# Create y_df with the Attrition and Department columns\n",
        "y_df = attrition_df[['Attrition', 'Department']]\n",
        "y_df.head()\n",
        "# show how many unique values there are for the Department column\n",
        "y_df['Department'].value_counts()"
      ]
    },
    {
      "cell_type": "code",
      "execution_count": 333,
      "metadata": {
        "colab": {
          "base_uri": "https://localhost:8080/"
        },
        "id": "Virka0zLGc3R",
        "outputId": "dd5aee3a-9458-4ba6-e857-1b234de40915"
      },
      "outputs": [
        {
          "data": {
            "text/plain": [
              "Age                         int64\n",
              "BusinessTravel             object\n",
              "NumCompaniesWorked          int64\n",
              "DistanceFromHome            int64\n",
              "Education                   int64\n",
              "EnvironmentSatisfaction     int64\n",
              "PercentSalaryHike           int64\n",
              "YearsSinceLastPromotion     int64\n",
              "StockOptionLevel            int64\n",
              "TrainingTimesLastYear       int64\n",
              "dtype: object"
            ]
          },
          "execution_count": 333,
          "metadata": {},
          "output_type": "execute_result"
        }
      ],
      "source": [
        "# Create a list of at least 10 column names to use as X data\n",
        "selected_columns = ['Age', 'BusinessTravel', 'NumCompaniesWorked', 'DistanceFromHome', 'Education', 'EnvironmentSatisfaction', 'PercentSalaryHike', 'YearsSinceLastPromotion', 'StockOptionLevel', 'TrainingTimesLastYear']\n",
        "\n",
        "# Create X_df using your selected columns\n",
        "X_df = attrition_df[selected_columns]\n",
        "\n",
        "# Show the data types for X_df\n",
        "X_df.dtypes\n"
      ]
    },
    {
      "cell_type": "code",
      "execution_count": 334,
      "metadata": {
        "id": "KaJfdOGUMHMR"
      },
      "outputs": [],
      "source": [
        "# Split the data into training and testing sets\n",
        "from sklearn.model_selection import train_test_split\n",
        "X_train, X_test, y_train, y_test = train_test_split(X_df, y_df, random_state=78)\n"
      ]
    },
    {
      "cell_type": "code",
      "execution_count": 335,
      "metadata": {
        "colab": {
          "base_uri": "https://localhost:8080/"
        },
        "id": "NYubUJqiLCSp",
        "outputId": "53f31721-571c-4c94-d13e-25a715749593"
      },
      "outputs": [],
      "source": [
        "# Convert your X data to numeric data types however you see fit\n",
        "# Add new code cells as necessary\n",
        "X_train = pd.get_dummies(X_train)\n",
        "X_test = pd.get_dummies(X_test)"
      ]
    },
    {
      "cell_type": "code",
      "execution_count": 336,
      "metadata": {
        "id": "EWA-aIA5Gc3T"
      },
      "outputs": [],
      "source": [
        "# Create a StandardScaler\n",
        "scaler = StandardScaler()\n",
        "\n",
        "# Fit the StandardScaler to the training data\n",
        "X_scaler = scaler.fit(X_train)\n",
        "\n",
        "# Scale the training and testing data\n",
        "X_train_scaled = X_scaler.transform(X_train)\n",
        "X_test_scaled = X_scaler.transform(X_test)\n"
      ]
    },
    {
      "cell_type": "code",
      "execution_count": 337,
      "metadata": {
        "colab": {
          "base_uri": "https://localhost:8080/"
        },
        "id": "-z0Mky8vQSz4",
        "outputId": "debefc85-c20b-48f5-f4d9-91eadd65d36a"
      },
      "outputs": [],
      "source": [
        "# Create a OneHotEncoder for the Department column\n",
        "from sklearn.preprocessing import OneHotEncoder\n",
        "enc = OneHotEncoder()\n",
        "\n",
        "# Fit the encoder to the training data\n",
        "enc.fit(y_train['Department'].values.reshape(-1, 1))\n",
        "\n",
        "# Create two new variables by applying the encoder\n",
        "# to the training and testing data\n",
        "encoded_y_train = enc.transform(y_train['Department'].values.reshape(-1, 1))\n",
        "encoded_y_test = enc.transform(y_test['Department'].values.reshape(-1, 1))\n",
        "\n"
      ]
    },
    {
      "cell_type": "code",
      "execution_count": 338,
      "metadata": {
        "colab": {
          "base_uri": "https://localhost:8080/"
        },
        "id": "-G4DSpvFRrk4",
        "outputId": "9842e948-8a55-4b80-8fac-f96714e85589"
      },
      "outputs": [],
      "source": [
        "# Create a OneHotEncoder for the Attrition column\n",
        "enc = OneHotEncoder()\n",
        "\n",
        "# Fit the encoder to the training data\n",
        "enc.fit(y_train['Attrition'].values.reshape(-1, 1))\n",
        "\n",
        "# Create two new variables by applying the encoder\n",
        "# to the training and testing data\n",
        "encoded_y_train_attrition = enc.transform(y_train['Attrition'].values.reshape(-1, 1))\n",
        "encoded_y_test_attrition = enc.transform(y_test['Attrition'].values.reshape(-1, 1))\n"
      ]
    },
    {
      "cell_type": "markdown",
      "metadata": {
        "id": "ykNmu_WWGc3T"
      },
      "source": [
        "## Create, Compile, and Train the Model"
      ]
    },
    {
      "cell_type": "code",
      "execution_count": 339,
      "metadata": {
        "id": "WUptZqmSGc3T"
      },
      "outputs": [],
      "source": [
        "# Find the number of columns in the X training data\n",
        "input_features = X_train_scaled.shape[1]\n",
        "# Create the input layer\n",
        "input_layer = layers.Input(shape=(X_train_scaled.shape[1],))\n",
        "\n",
        "# Create at least two shared layers\n",
        "shared_layer1 = layers.Dense(units=64, activation='relu')(input_layer)\n",
        "shared_layer2 = layers.Dense(units=32, activation='relu')(shared_layer1)"
      ]
    },
    {
      "cell_type": "code",
      "execution_count": 340,
      "metadata": {
        "id": "JukjTm2yTEqd"
      },
      "outputs": [],
      "source": [
        "# Create a branch for Department\n",
        "# with a hidden layer and an output layer\n",
        "department_branch = shared_layer2\n",
        "\n",
        "# Create the hidden layer\n",
        "hidden_layer_department = layers.Dense(units=3, activation='relu')(department_branch)\n",
        "\n",
        "# Create the output layer\n",
        "output_layer_department = layers.Dense(units=3, activation='softmax', name='department_output')(hidden_layer_department)"
      ]
    },
    {
      "cell_type": "code",
      "execution_count": 341,
      "metadata": {
        "id": "9OqhUiOJUBkR"
      },
      "outputs": [],
      "source": [
        "# Create a branch for Attrition\n",
        "# with a hidden layer and an output layer\n",
        "attrition_branch = shared_layer2\n",
        "# Create the hidden layer\n",
        "hidden_layer_attrition = layers.Dense(units=2, activation='relu')(attrition_branch)\n",
        "\n",
        "# Create the output layer\n",
        "output_layer_attrition = layers.Dense(units=1, activation='sigmoid', name='attrition_output')(hidden_layer_attrition)"
      ]
    },
    {
      "cell_type": "code",
      "execution_count": 342,
      "metadata": {
        "colab": {
          "base_uri": "https://localhost:8080/"
        },
        "id": "twmuejdxGc3T",
        "outputId": "25096308-b68b-42e4-e4ea-ae82e97c435a"
      },
      "outputs": [
        {
          "name": "stdout",
          "output_type": "stream",
          "text": [
            "Model: \"model_17\"\n",
            "__________________________________________________________________________________________________\n",
            " Layer (type)                Output Shape                 Param #   Connected to                  \n",
            "==================================================================================================\n",
            " input_23 (InputLayer)       [(None, 12)]                 0         []                            \n",
            "                                                                                                  \n",
            " dense_81 (Dense)            (None, 64)                   832       ['input_23[0][0]']            \n",
            "                                                                                                  \n",
            " dense_82 (Dense)            (None, 32)                   2080      ['dense_81[0][0]']            \n",
            "                                                                                                  \n",
            " dense_83 (Dense)            (None, 3)                    99        ['dense_82[0][0]']            \n",
            "                                                                                                  \n",
            " dense_84 (Dense)            (None, 2)                    66        ['dense_82[0][0]']            \n",
            "                                                                                                  \n",
            " department_output (Dense)   (None, 3)                    12        ['dense_83[0][0]']            \n",
            "                                                                                                  \n",
            " attrition_output (Dense)    (None, 1)                    3         ['dense_84[0][0]']            \n",
            "                                                                                                  \n",
            "==================================================================================================\n",
            "Total params: 3092 (12.08 KB)\n",
            "Trainable params: 3092 (12.08 KB)\n",
            "Non-trainable params: 0 (0.00 Byte)\n",
            "__________________________________________________________________________________________________\n"
          ]
        }
      ],
      "source": [
        "# Create the model\n",
        "model = Model(inputs=input_layer, outputs=[output_layer_department, output_layer_attrition])\n",
        "\n",
        "# Compile the model\n",
        "model.compile(optimizer='adam',\n",
        "              loss={'department_output': 'categorical_crossentropy',\n",
        "                    'attrition_output': 'categorical_crossentropy'},\n",
        "              metrics=['accuracy'])\n",
        "\n",
        "# Summarize the model\n",
        "model.summary()"
      ]
    },
    {
      "cell_type": "code",
      "execution_count": 343,
      "metadata": {
        "colab": {
          "base_uri": "https://localhost:8080/"
        },
        "id": "c8oGy0dpGc3U",
        "outputId": "cc667d43-28cf-42d4-d719-c2bc02888d30"
      },
      "outputs": [
        {
          "name": "stdout",
          "output_type": "stream",
          "text": [
            "Epoch 1/100\n"
          ]
        },
        {
          "name": "stderr",
          "output_type": "stream",
          "text": [
            "c:\\Users\\Robert\\.conda\\envs\\dev\\lib\\site-packages\\tensorflow\\python\\util\\dispatch.py:1260: SyntaxWarning: In loss categorical_crossentropy, expected y_pred.shape to be (batch_size, num_classes) with num_classes > 1. Received: y_pred.shape=(None, 1). Consider using 'binary_crossentropy' if you only have 2 classes.\n",
            "  return dispatch_target(*args, **kwargs)\n"
          ]
        },
        {
          "name": "stdout",
          "output_type": "stream",
          "text": [
            "35/35 - 1s - loss: 0.9770 - department_output_loss: 0.9770 - attrition_output_loss: 0.0000e+00 - department_output_accuracy: 0.6089 - attrition_output_accuracy: 0.6534 - 767ms/epoch - 22ms/step\n",
            "Epoch 2/100\n",
            "35/35 - 0s - loss: 0.8078 - department_output_loss: 0.8078 - attrition_output_loss: 0.0000e+00 - department_output_accuracy: 0.6661 - attrition_output_accuracy: 0.8276 - 28ms/epoch - 801us/step\n",
            "Epoch 3/100\n",
            "35/35 - 0s - loss: 0.7946 - department_output_loss: 0.7946 - attrition_output_loss: 0.0000e+00 - department_output_accuracy: 0.6661 - attrition_output_accuracy: 0.8276 - 28ms/epoch - 801us/step\n",
            "Epoch 4/100\n",
            "35/35 - 0s - loss: 0.7805 - department_output_loss: 0.7805 - attrition_output_loss: 0.0000e+00 - department_output_accuracy: 0.6661 - attrition_output_accuracy: 0.8276 - 28ms/epoch - 801us/step\n",
            "Epoch 5/100\n",
            "35/35 - 0s - loss: 0.7741 - department_output_loss: 0.7741 - attrition_output_loss: 0.0000e+00 - department_output_accuracy: 0.6661 - attrition_output_accuracy: 0.8276 - 27ms/epoch - 772us/step\n",
            "Epoch 6/100\n",
            "35/35 - 0s - loss: 0.7798 - department_output_loss: 0.7798 - attrition_output_loss: 0.0000e+00 - department_output_accuracy: 0.6661 - attrition_output_accuracy: 0.8276 - 27ms/epoch - 772us/step\n",
            "Epoch 7/100\n",
            "35/35 - 0s - loss: 0.7826 - department_output_loss: 0.7826 - attrition_output_loss: 0.0000e+00 - department_output_accuracy: 0.6661 - attrition_output_accuracy: 0.8276 - 28ms/epoch - 801us/step\n",
            "Epoch 8/100\n",
            "35/35 - 0s - loss: 0.7871 - department_output_loss: 0.7871 - attrition_output_loss: 0.0000e+00 - department_output_accuracy: 0.6670 - attrition_output_accuracy: 0.8276 - 27ms/epoch - 772us/step\n",
            "Epoch 9/100\n",
            "35/35 - 0s - loss: 0.7924 - department_output_loss: 0.7924 - attrition_output_loss: 0.0000e+00 - department_output_accuracy: 0.6670 - attrition_output_accuracy: 0.8276 - 27ms/epoch - 772us/step\n",
            "Epoch 10/100\n",
            "35/35 - 0s - loss: 0.8068 - department_output_loss: 0.8068 - attrition_output_loss: 0.0000e+00 - department_output_accuracy: 0.6670 - attrition_output_accuracy: 0.8276 - 28ms/epoch - 801us/step\n",
            "Epoch 11/100\n",
            "35/35 - 0s - loss: 0.8048 - department_output_loss: 0.8048 - attrition_output_loss: 0.0000e+00 - department_output_accuracy: 0.6633 - attrition_output_accuracy: 0.8276 - 27ms/epoch - 772us/step\n",
            "Epoch 12/100\n",
            "35/35 - 0s - loss: 0.8035 - department_output_loss: 0.8035 - attrition_output_loss: 0.0000e+00 - department_output_accuracy: 0.6652 - attrition_output_accuracy: 0.8276 - 28ms/epoch - 801us/step\n",
            "Epoch 13/100\n",
            "35/35 - 0s - loss: 0.8491 - department_output_loss: 0.8491 - attrition_output_loss: 0.0000e+00 - department_output_accuracy: 0.6534 - attrition_output_accuracy: 0.8276 - 28ms/epoch - 801us/step\n",
            "Epoch 14/100\n",
            "35/35 - 0s - loss: 0.8147 - department_output_loss: 0.8147 - attrition_output_loss: 0.0000e+00 - department_output_accuracy: 0.6642 - attrition_output_accuracy: 0.8276 - 28ms/epoch - 801us/step\n",
            "Epoch 15/100\n",
            "35/35 - 0s - loss: 0.8211 - department_output_loss: 0.8211 - attrition_output_loss: 0.0000e+00 - department_output_accuracy: 0.6661 - attrition_output_accuracy: 0.8276 - 27ms/epoch - 772us/step\n",
            "Epoch 16/100\n",
            "35/35 - 0s - loss: 0.8216 - department_output_loss: 0.8216 - attrition_output_loss: 0.0000e+00 - department_output_accuracy: 0.6661 - attrition_output_accuracy: 0.8276 - 28ms/epoch - 801us/step\n",
            "Epoch 17/100\n",
            "35/35 - 0s - loss: 0.8333 - department_output_loss: 0.8333 - attrition_output_loss: 0.0000e+00 - department_output_accuracy: 0.6661 - attrition_output_accuracy: 0.8276 - 27ms/epoch - 772us/step\n",
            "Epoch 18/100\n",
            "35/35 - 0s - loss: 0.8938 - department_output_loss: 0.8938 - attrition_output_loss: 0.0000e+00 - department_output_accuracy: 0.6661 - attrition_output_accuracy: 0.8276 - 27ms/epoch - 772us/step\n",
            "Epoch 19/100\n",
            "35/35 - 0s - loss: 0.8298 - department_output_loss: 0.8298 - attrition_output_loss: 0.0000e+00 - department_output_accuracy: 0.6661 - attrition_output_accuracy: 0.8276 - 27ms/epoch - 772us/step\n",
            "Epoch 20/100\n",
            "35/35 - 0s - loss: 0.8258 - department_output_loss: 0.8258 - attrition_output_loss: 0.0000e+00 - department_output_accuracy: 0.6661 - attrition_output_accuracy: 0.8276 - 28ms/epoch - 801us/step\n",
            "Epoch 21/100\n",
            "35/35 - 0s - loss: 0.8931 - department_output_loss: 0.8931 - attrition_output_loss: 0.0000e+00 - department_output_accuracy: 0.6661 - attrition_output_accuracy: 0.8276 - 27ms/epoch - 772us/step\n",
            "Epoch 22/100\n",
            "35/35 - 0s - loss: 1.0145 - department_output_loss: 1.0145 - attrition_output_loss: 0.0000e+00 - department_output_accuracy: 0.6661 - attrition_output_accuracy: 0.8276 - 27ms/epoch - 772us/step\n",
            "Epoch 23/100\n",
            "35/35 - 0s - loss: 0.9770 - department_output_loss: 0.9770 - attrition_output_loss: 0.0000e+00 - department_output_accuracy: 0.6661 - attrition_output_accuracy: 0.8276 - 27ms/epoch - 772us/step\n",
            "Epoch 24/100\n",
            "35/35 - 0s - loss: 0.9475 - department_output_loss: 0.9475 - attrition_output_loss: 0.0000e+00 - department_output_accuracy: 0.6661 - attrition_output_accuracy: 0.8276 - 28ms/epoch - 801us/step\n",
            "Epoch 25/100\n",
            "35/35 - 0s - loss: 0.9244 - department_output_loss: 0.9244 - attrition_output_loss: 0.0000e+00 - department_output_accuracy: 0.6661 - attrition_output_accuracy: 0.8276 - 28ms/epoch - 801us/step\n",
            "Epoch 26/100\n",
            "35/35 - 0s - loss: 0.9055 - department_output_loss: 0.9055 - attrition_output_loss: 0.0000e+00 - department_output_accuracy: 0.6661 - attrition_output_accuracy: 0.8276 - 27ms/epoch - 772us/step\n",
            "Epoch 27/100\n",
            "35/35 - 0s - loss: 0.8900 - department_output_loss: 0.8900 - attrition_output_loss: 0.0000e+00 - department_output_accuracy: 0.6661 - attrition_output_accuracy: 0.8276 - 27ms/epoch - 772us/step\n",
            "Epoch 28/100\n",
            "35/35 - 0s - loss: 0.8767 - department_output_loss: 0.8767 - attrition_output_loss: 0.0000e+00 - department_output_accuracy: 0.6661 - attrition_output_accuracy: 0.8276 - 27ms/epoch - 772us/step\n",
            "Epoch 29/100\n",
            "35/35 - 0s - loss: 0.8654 - department_output_loss: 0.8654 - attrition_output_loss: 0.0000e+00 - department_output_accuracy: 0.6661 - attrition_output_accuracy: 0.8276 - 37ms/epoch - 1ms/step\n",
            "Epoch 30/100\n",
            "35/35 - 0s - loss: 0.8557 - department_output_loss: 0.8557 - attrition_output_loss: 0.0000e+00 - department_output_accuracy: 0.6661 - attrition_output_accuracy: 0.8276 - 28ms/epoch - 801us/step\n",
            "Epoch 31/100\n",
            "35/35 - 0s - loss: 0.8471 - department_output_loss: 0.8471 - attrition_output_loss: 0.0000e+00 - department_output_accuracy: 0.6661 - attrition_output_accuracy: 0.8276 - 27ms/epoch - 772us/step\n",
            "Epoch 32/100\n",
            "35/35 - 0s - loss: 0.8393 - department_output_loss: 0.8393 - attrition_output_loss: 0.0000e+00 - department_output_accuracy: 0.6661 - attrition_output_accuracy: 0.8276 - 28ms/epoch - 801us/step\n",
            "Epoch 33/100\n",
            "35/35 - 0s - loss: 0.8327 - department_output_loss: 0.8327 - attrition_output_loss: 0.0000e+00 - department_output_accuracy: 0.6661 - attrition_output_accuracy: 0.8276 - 28ms/epoch - 801us/step\n",
            "Epoch 34/100\n",
            "35/35 - 0s - loss: 0.8268 - department_output_loss: 0.8268 - attrition_output_loss: 0.0000e+00 - department_output_accuracy: 0.6661 - attrition_output_accuracy: 0.8276 - 27ms/epoch - 772us/step\n",
            "Epoch 35/100\n",
            "35/35 - 0s - loss: 0.8216 - department_output_loss: 0.8216 - attrition_output_loss: 0.0000e+00 - department_output_accuracy: 0.6661 - attrition_output_accuracy: 0.8276 - 27ms/epoch - 772us/step\n",
            "Epoch 36/100\n",
            "35/35 - 0s - loss: 0.8167 - department_output_loss: 0.8167 - attrition_output_loss: 0.0000e+00 - department_output_accuracy: 0.6661 - attrition_output_accuracy: 0.8276 - 28ms/epoch - 801us/step\n",
            "Epoch 37/100\n",
            "35/35 - 0s - loss: 0.8124 - department_output_loss: 0.8124 - attrition_output_loss: 0.0000e+00 - department_output_accuracy: 0.6661 - attrition_output_accuracy: 0.8276 - 28ms/epoch - 801us/step\n",
            "Epoch 38/100\n",
            "35/35 - 0s - loss: 0.8085 - department_output_loss: 0.8085 - attrition_output_loss: 0.0000e+00 - department_output_accuracy: 0.6661 - attrition_output_accuracy: 0.8276 - 28ms/epoch - 801us/step\n",
            "Epoch 39/100\n",
            "35/35 - 0s - loss: 0.8049 - department_output_loss: 0.8049 - attrition_output_loss: 0.0000e+00 - department_output_accuracy: 0.6661 - attrition_output_accuracy: 0.8276 - 27ms/epoch - 772us/step\n",
            "Epoch 40/100\n",
            "35/35 - 0s - loss: 0.8017 - department_output_loss: 0.8017 - attrition_output_loss: 0.0000e+00 - department_output_accuracy: 0.6661 - attrition_output_accuracy: 0.8276 - 28ms/epoch - 801us/step\n",
            "Epoch 41/100\n",
            "35/35 - 0s - loss: 0.7987 - department_output_loss: 0.7987 - attrition_output_loss: 0.0000e+00 - department_output_accuracy: 0.6661 - attrition_output_accuracy: 0.8276 - 28ms/epoch - 801us/step\n",
            "Epoch 42/100\n",
            "35/35 - 0s - loss: 0.7960 - department_output_loss: 0.7960 - attrition_output_loss: 0.0000e+00 - department_output_accuracy: 0.6661 - attrition_output_accuracy: 0.8276 - 28ms/epoch - 801us/step\n",
            "Epoch 43/100\n",
            "35/35 - 0s - loss: 0.7934 - department_output_loss: 0.7934 - attrition_output_loss: 0.0000e+00 - department_output_accuracy: 0.6661 - attrition_output_accuracy: 0.8276 - 27ms/epoch - 772us/step\n",
            "Epoch 44/100\n",
            "35/35 - 0s - loss: 0.7912 - department_output_loss: 0.7912 - attrition_output_loss: 0.0000e+00 - department_output_accuracy: 0.6661 - attrition_output_accuracy: 0.8276 - 27ms/epoch - 772us/step\n",
            "Epoch 45/100\n",
            "35/35 - 0s - loss: 0.7890 - department_output_loss: 0.7890 - attrition_output_loss: 0.0000e+00 - department_output_accuracy: 0.6661 - attrition_output_accuracy: 0.8276 - 28ms/epoch - 801us/step\n",
            "Epoch 46/100\n",
            "35/35 - 0s - loss: 0.7870 - department_output_loss: 0.7870 - attrition_output_loss: 0.0000e+00 - department_output_accuracy: 0.6661 - attrition_output_accuracy: 0.8276 - 28ms/epoch - 801us/step\n",
            "Epoch 47/100\n",
            "35/35 - 0s - loss: 0.7852 - department_output_loss: 0.7852 - attrition_output_loss: 0.0000e+00 - department_output_accuracy: 0.6661 - attrition_output_accuracy: 0.8276 - 27ms/epoch - 772us/step\n",
            "Epoch 48/100\n",
            "35/35 - 0s - loss: 0.7835 - department_output_loss: 0.7835 - attrition_output_loss: 0.0000e+00 - department_output_accuracy: 0.6661 - attrition_output_accuracy: 0.8276 - 27ms/epoch - 772us/step\n",
            "Epoch 49/100\n",
            "35/35 - 0s - loss: 0.7819 - department_output_loss: 0.7819 - attrition_output_loss: 0.0000e+00 - department_output_accuracy: 0.6661 - attrition_output_accuracy: 0.8276 - 27ms/epoch - 772us/step\n",
            "Epoch 50/100\n",
            "35/35 - 0s - loss: 0.7805 - department_output_loss: 0.7805 - attrition_output_loss: 0.0000e+00 - department_output_accuracy: 0.6661 - attrition_output_accuracy: 0.8276 - 28ms/epoch - 801us/step\n",
            "Epoch 51/100\n",
            "35/35 - 0s - loss: 0.7792 - department_output_loss: 0.7792 - attrition_output_loss: 0.0000e+00 - department_output_accuracy: 0.6661 - attrition_output_accuracy: 0.8276 - 28ms/epoch - 801us/step\n",
            "Epoch 52/100\n",
            "35/35 - 0s - loss: 0.7779 - department_output_loss: 0.7779 - attrition_output_loss: 0.0000e+00 - department_output_accuracy: 0.6661 - attrition_output_accuracy: 0.8276 - 27ms/epoch - 772us/step\n",
            "Epoch 53/100\n",
            "35/35 - 0s - loss: 0.7767 - department_output_loss: 0.7767 - attrition_output_loss: 0.0000e+00 - department_output_accuracy: 0.6661 - attrition_output_accuracy: 0.8276 - 28ms/epoch - 801us/step\n",
            "Epoch 54/100\n",
            "35/35 - 0s - loss: 0.7756 - department_output_loss: 0.7756 - attrition_output_loss: 0.0000e+00 - department_output_accuracy: 0.6661 - attrition_output_accuracy: 0.8276 - 27ms/epoch - 772us/step\n",
            "Epoch 55/100\n",
            "35/35 - 0s - loss: 0.7745 - department_output_loss: 0.7745 - attrition_output_loss: 0.0000e+00 - department_output_accuracy: 0.6661 - attrition_output_accuracy: 0.8276 - 28ms/epoch - 801us/step\n",
            "Epoch 56/100\n",
            "35/35 - 0s - loss: 0.7736 - department_output_loss: 0.7736 - attrition_output_loss: 0.0000e+00 - department_output_accuracy: 0.6661 - attrition_output_accuracy: 0.8276 - 27ms/epoch - 772us/step\n",
            "Epoch 57/100\n",
            "35/35 - 0s - loss: 0.7727 - department_output_loss: 0.7727 - attrition_output_loss: 0.0000e+00 - department_output_accuracy: 0.6661 - attrition_output_accuracy: 0.8276 - 27ms/epoch - 772us/step\n",
            "Epoch 58/100\n",
            "35/35 - 0s - loss: 0.7719 - department_output_loss: 0.7719 - attrition_output_loss: 0.0000e+00 - department_output_accuracy: 0.6661 - attrition_output_accuracy: 0.8276 - 27ms/epoch - 772us/step\n",
            "Epoch 59/100\n",
            "35/35 - 0s - loss: 0.7711 - department_output_loss: 0.7711 - attrition_output_loss: 0.0000e+00 - department_output_accuracy: 0.6661 - attrition_output_accuracy: 0.8276 - 28ms/epoch - 801us/step\n",
            "Epoch 60/100\n",
            "35/35 - 0s - loss: 0.7704 - department_output_loss: 0.7704 - attrition_output_loss: 0.0000e+00 - department_output_accuracy: 0.6661 - attrition_output_accuracy: 0.8276 - 27ms/epoch - 772us/step\n",
            "Epoch 61/100\n",
            "35/35 - 0s - loss: 0.7697 - department_output_loss: 0.7697 - attrition_output_loss: 0.0000e+00 - department_output_accuracy: 0.6661 - attrition_output_accuracy: 0.8276 - 27ms/epoch - 772us/step\n",
            "Epoch 62/100\n",
            "35/35 - 0s - loss: 0.7691 - department_output_loss: 0.7691 - attrition_output_loss: 0.0000e+00 - department_output_accuracy: 0.6661 - attrition_output_accuracy: 0.8276 - 28ms/epoch - 801us/step\n",
            "Epoch 63/100\n",
            "35/35 - 0s - loss: 0.7684 - department_output_loss: 0.7684 - attrition_output_loss: 0.0000e+00 - department_output_accuracy: 0.6661 - attrition_output_accuracy: 0.8276 - 27ms/epoch - 772us/step\n",
            "Epoch 64/100\n",
            "35/35 - 0s - loss: 0.7679 - department_output_loss: 0.7679 - attrition_output_loss: 0.0000e+00 - department_output_accuracy: 0.6661 - attrition_output_accuracy: 0.8276 - 27ms/epoch - 772us/step\n",
            "Epoch 65/100\n",
            "35/35 - 0s - loss: 0.7673 - department_output_loss: 0.7673 - attrition_output_loss: 0.0000e+00 - department_output_accuracy: 0.6661 - attrition_output_accuracy: 0.8276 - 28ms/epoch - 801us/step\n",
            "Epoch 66/100\n",
            "35/35 - 0s - loss: 0.7668 - department_output_loss: 0.7668 - attrition_output_loss: 0.0000e+00 - department_output_accuracy: 0.6661 - attrition_output_accuracy: 0.8276 - 34ms/epoch - 972us/step\n",
            "Epoch 67/100\n",
            "35/35 - 0s - loss: 0.7663 - department_output_loss: 0.7663 - attrition_output_loss: 0.0000e+00 - department_output_accuracy: 0.6661 - attrition_output_accuracy: 0.8276 - 29ms/epoch - 829us/step\n",
            "Epoch 68/100\n",
            "35/35 - 0s - loss: 0.7659 - department_output_loss: 0.7659 - attrition_output_loss: 0.0000e+00 - department_output_accuracy: 0.6661 - attrition_output_accuracy: 0.8276 - 28ms/epoch - 801us/step\n",
            "Epoch 69/100\n",
            "35/35 - 0s - loss: 0.7655 - department_output_loss: 0.7655 - attrition_output_loss: 0.0000e+00 - department_output_accuracy: 0.6661 - attrition_output_accuracy: 0.8276 - 27ms/epoch - 772us/step\n",
            "Epoch 70/100\n",
            "35/35 - 0s - loss: 0.7651 - department_output_loss: 0.7651 - attrition_output_loss: 0.0000e+00 - department_output_accuracy: 0.6661 - attrition_output_accuracy: 0.8276 - 27ms/epoch - 772us/step\n",
            "Epoch 71/100\n",
            "35/35 - 0s - loss: 0.7648 - department_output_loss: 0.7648 - attrition_output_loss: 0.0000e+00 - department_output_accuracy: 0.6661 - attrition_output_accuracy: 0.8276 - 28ms/epoch - 801us/step\n",
            "Epoch 72/100\n",
            "35/35 - 0s - loss: 0.7644 - department_output_loss: 0.7644 - attrition_output_loss: 0.0000e+00 - department_output_accuracy: 0.6661 - attrition_output_accuracy: 0.8276 - 28ms/epoch - 801us/step\n",
            "Epoch 73/100\n",
            "35/35 - 0s - loss: 0.7641 - department_output_loss: 0.7641 - attrition_output_loss: 0.0000e+00 - department_output_accuracy: 0.6661 - attrition_output_accuracy: 0.8276 - 27ms/epoch - 772us/step\n",
            "Epoch 74/100\n",
            "35/35 - 0s - loss: 0.7638 - department_output_loss: 0.7638 - attrition_output_loss: 0.0000e+00 - department_output_accuracy: 0.6661 - attrition_output_accuracy: 0.8276 - 27ms/epoch - 772us/step\n",
            "Epoch 75/100\n",
            "35/35 - 0s - loss: 0.7635 - department_output_loss: 0.7635 - attrition_output_loss: 0.0000e+00 - department_output_accuracy: 0.6661 - attrition_output_accuracy: 0.8276 - 28ms/epoch - 801us/step\n",
            "Epoch 76/100\n",
            "35/35 - 0s - loss: 0.7632 - department_output_loss: 0.7632 - attrition_output_loss: 0.0000e+00 - department_output_accuracy: 0.6661 - attrition_output_accuracy: 0.8276 - 28ms/epoch - 801us/step\n",
            "Epoch 77/100\n",
            "35/35 - 0s - loss: 0.7630 - department_output_loss: 0.7630 - attrition_output_loss: 0.0000e+00 - department_output_accuracy: 0.6661 - attrition_output_accuracy: 0.8276 - 28ms/epoch - 801us/step\n",
            "Epoch 78/100\n",
            "35/35 - 0s - loss: 0.7627 - department_output_loss: 0.7627 - attrition_output_loss: 0.0000e+00 - department_output_accuracy: 0.6661 - attrition_output_accuracy: 0.8276 - 27ms/epoch - 772us/step\n",
            "Epoch 79/100\n",
            "35/35 - 0s - loss: 0.7625 - department_output_loss: 0.7625 - attrition_output_loss: 0.0000e+00 - department_output_accuracy: 0.6661 - attrition_output_accuracy: 0.8276 - 28ms/epoch - 801us/step\n",
            "Epoch 80/100\n",
            "35/35 - 0s - loss: 0.7623 - department_output_loss: 0.7623 - attrition_output_loss: 0.0000e+00 - department_output_accuracy: 0.6661 - attrition_output_accuracy: 0.8276 - 27ms/epoch - 772us/step\n",
            "Epoch 81/100\n",
            "35/35 - 0s - loss: 0.7621 - department_output_loss: 0.7621 - attrition_output_loss: 0.0000e+00 - department_output_accuracy: 0.6661 - attrition_output_accuracy: 0.8276 - 28ms/epoch - 801us/step\n",
            "Epoch 82/100\n",
            "35/35 - 0s - loss: 0.7619 - department_output_loss: 0.7619 - attrition_output_loss: 0.0000e+00 - department_output_accuracy: 0.6661 - attrition_output_accuracy: 0.8276 - 29ms/epoch - 829us/step\n",
            "Epoch 83/100\n",
            "35/35 - 0s - loss: 0.7617 - department_output_loss: 0.7617 - attrition_output_loss: 0.0000e+00 - department_output_accuracy: 0.6661 - attrition_output_accuracy: 0.8276 - 28ms/epoch - 801us/step\n",
            "Epoch 84/100\n",
            "35/35 - 0s - loss: 0.7616 - department_output_loss: 0.7616 - attrition_output_loss: 0.0000e+00 - department_output_accuracy: 0.6661 - attrition_output_accuracy: 0.8276 - 27ms/epoch - 772us/step\n",
            "Epoch 85/100\n",
            "35/35 - 0s - loss: 0.7614 - department_output_loss: 0.7614 - attrition_output_loss: 0.0000e+00 - department_output_accuracy: 0.6661 - attrition_output_accuracy: 0.8276 - 27ms/epoch - 772us/step\n",
            "Epoch 86/100\n",
            "35/35 - 0s - loss: 0.7613 - department_output_loss: 0.7613 - attrition_output_loss: 0.0000e+00 - department_output_accuracy: 0.6661 - attrition_output_accuracy: 0.8276 - 28ms/epoch - 801us/step\n",
            "Epoch 87/100\n",
            "35/35 - 0s - loss: 0.7612 - department_output_loss: 0.7612 - attrition_output_loss: 0.0000e+00 - department_output_accuracy: 0.6661 - attrition_output_accuracy: 0.8276 - 27ms/epoch - 772us/step\n",
            "Epoch 88/100\n",
            "35/35 - 0s - loss: 0.7610 - department_output_loss: 0.7610 - attrition_output_loss: 0.0000e+00 - department_output_accuracy: 0.6661 - attrition_output_accuracy: 0.8276 - 27ms/epoch - 772us/step\n",
            "Epoch 89/100\n",
            "35/35 - 0s - loss: 0.7609 - department_output_loss: 0.7609 - attrition_output_loss: 0.0000e+00 - department_output_accuracy: 0.6661 - attrition_output_accuracy: 0.8276 - 28ms/epoch - 801us/step\n",
            "Epoch 90/100\n",
            "35/35 - 0s - loss: 0.7608 - department_output_loss: 0.7608 - attrition_output_loss: 0.0000e+00 - department_output_accuracy: 0.6661 - attrition_output_accuracy: 0.8276 - 28ms/epoch - 801us/step\n",
            "Epoch 91/100\n",
            "35/35 - 0s - loss: 0.7607 - department_output_loss: 0.7607 - attrition_output_loss: 0.0000e+00 - department_output_accuracy: 0.6661 - attrition_output_accuracy: 0.8276 - 27ms/epoch - 772us/step\n",
            "Epoch 92/100\n",
            "35/35 - 0s - loss: 0.7606 - department_output_loss: 0.7606 - attrition_output_loss: 0.0000e+00 - department_output_accuracy: 0.6661 - attrition_output_accuracy: 0.8276 - 28ms/epoch - 801us/step\n",
            "Epoch 93/100\n",
            "35/35 - 0s - loss: 0.7605 - department_output_loss: 0.7605 - attrition_output_loss: 0.0000e+00 - department_output_accuracy: 0.6661 - attrition_output_accuracy: 0.8276 - 28ms/epoch - 801us/step\n",
            "Epoch 94/100\n",
            "35/35 - 0s - loss: 0.7604 - department_output_loss: 0.7604 - attrition_output_loss: 0.0000e+00 - department_output_accuracy: 0.6661 - attrition_output_accuracy: 0.8276 - 27ms/epoch - 772us/step\n",
            "Epoch 95/100\n",
            "35/35 - 0s - loss: 0.7603 - department_output_loss: 0.7603 - attrition_output_loss: 0.0000e+00 - department_output_accuracy: 0.6661 - attrition_output_accuracy: 0.8276 - 27ms/epoch - 772us/step\n",
            "Epoch 96/100\n",
            "35/35 - 0s - loss: 0.7602 - department_output_loss: 0.7602 - attrition_output_loss: 0.0000e+00 - department_output_accuracy: 0.6661 - attrition_output_accuracy: 0.8276 - 27ms/epoch - 772us/step\n",
            "Epoch 97/100\n",
            "35/35 - 0s - loss: 0.7602 - department_output_loss: 0.7602 - attrition_output_loss: 0.0000e+00 - department_output_accuracy: 0.6661 - attrition_output_accuracy: 0.8276 - 28ms/epoch - 801us/step\n",
            "Epoch 98/100\n",
            "35/35 - 0s - loss: 0.7601 - department_output_loss: 0.7601 - attrition_output_loss: 0.0000e+00 - department_output_accuracy: 0.6661 - attrition_output_accuracy: 0.8276 - 28ms/epoch - 801us/step\n",
            "Epoch 99/100\n",
            "35/35 - 0s - loss: 0.7601 - department_output_loss: 0.7601 - attrition_output_loss: 0.0000e+00 - department_output_accuracy: 0.6661 - attrition_output_accuracy: 0.8276 - 27ms/epoch - 772us/step\n",
            "Epoch 100/100\n",
            "35/35 - 0s - loss: 0.7600 - department_output_loss: 0.7600 - attrition_output_loss: 0.0000e+00 - department_output_accuracy: 0.6661 - attrition_output_accuracy: 0.8276 - 28ms/epoch - 801us/step\n"
          ]
        },
        {
          "data": {
            "text/plain": [
              "<keras.src.callbacks.History at 0x267b30c15a0>"
            ]
          },
          "execution_count": 343,
          "metadata": {},
          "output_type": "execute_result"
        }
      ],
      "source": [
        "# Define the variables y_train_department and y_train_attrition and convert y_train_attrition to 0s and 1s\n",
        "y_train_department = encoded_y_train.toarray()\n",
        "y_train_attrition = encoded_y_train_attrition.toarray()\n",
        "\n",
        "# Modify the shape of y_train_attrition to match the output layer shape\n",
        "y_train_attrition = encoded_y_train_attrition.toarray()[:, 1]\n",
        "y_test_attrition = encoded_y_test_attrition.toarray()[:, 1]\n",
        "\n",
        "# Train the model\n",
        "model.fit(X_train_scaled, [y_train_department, y_train_attrition], epochs=100, verbose=2)\n"
      ]
    },
    {
      "cell_type": "code",
      "execution_count": 344,
      "metadata": {
        "colab": {
          "base_uri": "https://localhost:8080/"
        },
        "id": "VsMoaQlgGc3U",
        "outputId": "1bd4e601-e964-4abc-ad83-aeecf6b696be"
      },
      "outputs": [
        {
          "name": "stdout",
          "output_type": "stream",
          "text": [
            "12/12 - 0s - loss: 0.8215 - department_output_loss: 0.8215 - attrition_output_loss: 0.0000e+00 - department_output_accuracy: 0.6168 - attrition_output_accuracy: 0.8723 - 156ms/epoch - 13ms/step\n"
          ]
        }
      ],
      "source": [
        "# Evaluate the model with the testing data\n",
        "total_loss, loss_department, loss_attrition, accuracy_department, accuracy_attrition = model.evaluate(X_test_scaled, [encoded_y_test.toarray(), y_test_attrition], verbose=2)\n"
      ]
    },
    {
      "cell_type": "code",
      "execution_count": 345,
      "metadata": {
        "colab": {
          "base_uri": "https://localhost:8080/"
        },
        "id": "ZlCtlHi0Vt54",
        "outputId": "bc21ef3e-80c2-4b38-9c29-79515bc23dec"
      },
      "outputs": [
        {
          "name": "stdout",
          "output_type": "stream",
          "text": [
            "12/12 - 0s - loss: 0.8215 - department_output_loss: 0.8215 - attrition_output_loss: 0.0000e+00 - department_output_accuracy: 0.6168 - attrition_output_accuracy: 0.8723 - 23ms/epoch - 2ms/step\n",
            "Department Accuracy: 0.616847813129425\n",
            "Attrition Accuracy: 0.8722826242446899\n"
          ]
        }
      ],
      "source": [
        "# Calculate and print the accuracy for both department and attrition\n",
        "_, _, _, accuracy_department, accuracy_attrition = model.evaluate(X_test_scaled, [encoded_y_test.toarray(), y_test_attrition], verbose=2)\n",
        "print(f\"Department Accuracy: {accuracy_department}\")\n",
        "print(f\"Attrition Accuracy: {accuracy_attrition}\")\n"
      ]
    },
    {
      "cell_type": "markdown",
      "metadata": {
        "id": "eGSyfsZfWOQM"
      },
      "source": [
        "# Summary\n",
        "\n",
        "In the provided space below, briefly answer the following questions.\n",
        "\n",
        "1. Is accuracy the best metric to use on this data? Why or why not?\n",
        "\n",
        "2. What activation functions did you choose for your output layers, and why?\n",
        "\n",
        "3. Can you name a few ways that this model might be improved?"
      ]
    },
    {
      "cell_type": "markdown",
      "metadata": {
        "id": "pi9SLpFnWvbF"
      },
      "source": [
        "YOUR ANSWERS HERE\n",
        "\n",
        "1. I do not think so. The data consists of 3 different departments (with disproportionate representation), utilizing 10 selected columns to assess attrition. Our department accuracy was quite low compared to attrition accuracy. The disparity in accuracy is most likely due to the fact that the 3 unique values for department are very unbalanced.\n",
        "2. I used softmax for department because it has 3 variables, being sales, research and development, and human resources. I used sigmoid for attrition because it is a binary output of either yes, or no. \n",
        "3. Balancing the data, separating each department into its own dataframe for assessment, prioritizing the 10 selected assessment columns for outcome relevance."
      ]
    },
    {
      "cell_type": "markdown",
      "metadata": {},
      "source": []
    }
  ],
  "metadata": {
    "colab": {
      "provenance": []
    },
    "kernelspec": {
      "display_name": "Python 3",
      "language": "python",
      "name": "python3"
    },
    "language_info": {
      "codemirror_mode": {
        "name": "ipython",
        "version": 3
      },
      "file_extension": ".py",
      "mimetype": "text/x-python",
      "name": "python",
      "nbconvert_exporter": "python",
      "pygments_lexer": "ipython3",
      "version": "3.10.13"
    },
    "vscode": {
      "interpreter": {
        "hash": "31f2aee4e71d21fbe5cf8b01ff0e069b9275f58929596ceb00d14d90e3e16cd6"
      }
    }
  },
  "nbformat": 4,
  "nbformat_minor": 0
}
