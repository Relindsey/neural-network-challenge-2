{
  "cells": [
    {
      "cell_type": "markdown",
      "metadata": {
        "id": "alIIEHibGc3M"
      },
      "source": [
        "## Part 1: Preprocessing"
      ]
    },
    {
      "cell_type": "code",
      "execution_count": 1,
      "metadata": {
        "colab": {
          "base_uri": "https://localhost:8080/",
          "height": 325
        },
        "id": "6eDUJ4NtGc3P",
        "outputId": "2480098c-135c-4cbf-9552-018494ee8ff5"
      },
      "outputs": [
        {
          "name": "stdout",
          "output_type": "stream",
          "text": [
            "WARNING:tensorflow:From c:\\Users\\Robert\\.conda\\envs\\dev\\lib\\site-packages\\keras\\src\\losses.py:2976: The name tf.losses.sparse_softmax_cross_entropy is deprecated. Please use tf.compat.v1.losses.sparse_softmax_cross_entropy instead.\n",
            "\n"
          ]
        },
        {
          "data": {
            "text/html": [
              "<div>\n",
              "<style scoped>\n",
              "    .dataframe tbody tr th:only-of-type {\n",
              "        vertical-align: middle;\n",
              "    }\n",
              "\n",
              "    .dataframe tbody tr th {\n",
              "        vertical-align: top;\n",
              "    }\n",
              "\n",
              "    .dataframe thead th {\n",
              "        text-align: right;\n",
              "    }\n",
              "</style>\n",
              "<table border=\"1\" class=\"dataframe\">\n",
              "  <thead>\n",
              "    <tr style=\"text-align: right;\">\n",
              "      <th></th>\n",
              "      <th>Age</th>\n",
              "      <th>Attrition</th>\n",
              "      <th>BusinessTravel</th>\n",
              "      <th>Department</th>\n",
              "      <th>DistanceFromHome</th>\n",
              "      <th>Education</th>\n",
              "      <th>EducationField</th>\n",
              "      <th>EnvironmentSatisfaction</th>\n",
              "      <th>HourlyRate</th>\n",
              "      <th>JobInvolvement</th>\n",
              "      <th>...</th>\n",
              "      <th>PerformanceRating</th>\n",
              "      <th>RelationshipSatisfaction</th>\n",
              "      <th>StockOptionLevel</th>\n",
              "      <th>TotalWorkingYears</th>\n",
              "      <th>TrainingTimesLastYear</th>\n",
              "      <th>WorkLifeBalance</th>\n",
              "      <th>YearsAtCompany</th>\n",
              "      <th>YearsInCurrentRole</th>\n",
              "      <th>YearsSinceLastPromotion</th>\n",
              "      <th>YearsWithCurrManager</th>\n",
              "    </tr>\n",
              "  </thead>\n",
              "  <tbody>\n",
              "    <tr>\n",
              "      <th>0</th>\n",
              "      <td>41</td>\n",
              "      <td>Yes</td>\n",
              "      <td>Travel_Rarely</td>\n",
              "      <td>Sales</td>\n",
              "      <td>1</td>\n",
              "      <td>2</td>\n",
              "      <td>Life Sciences</td>\n",
              "      <td>2</td>\n",
              "      <td>94</td>\n",
              "      <td>3</td>\n",
              "      <td>...</td>\n",
              "      <td>3</td>\n",
              "      <td>1</td>\n",
              "      <td>0</td>\n",
              "      <td>8</td>\n",
              "      <td>0</td>\n",
              "      <td>1</td>\n",
              "      <td>6</td>\n",
              "      <td>4</td>\n",
              "      <td>0</td>\n",
              "      <td>5</td>\n",
              "    </tr>\n",
              "    <tr>\n",
              "      <th>1</th>\n",
              "      <td>49</td>\n",
              "      <td>No</td>\n",
              "      <td>Travel_Frequently</td>\n",
              "      <td>Research &amp; Development</td>\n",
              "      <td>8</td>\n",
              "      <td>1</td>\n",
              "      <td>Life Sciences</td>\n",
              "      <td>3</td>\n",
              "      <td>61</td>\n",
              "      <td>2</td>\n",
              "      <td>...</td>\n",
              "      <td>4</td>\n",
              "      <td>4</td>\n",
              "      <td>1</td>\n",
              "      <td>10</td>\n",
              "      <td>3</td>\n",
              "      <td>3</td>\n",
              "      <td>10</td>\n",
              "      <td>7</td>\n",
              "      <td>1</td>\n",
              "      <td>7</td>\n",
              "    </tr>\n",
              "    <tr>\n",
              "      <th>2</th>\n",
              "      <td>37</td>\n",
              "      <td>Yes</td>\n",
              "      <td>Travel_Rarely</td>\n",
              "      <td>Research &amp; Development</td>\n",
              "      <td>2</td>\n",
              "      <td>2</td>\n",
              "      <td>Other</td>\n",
              "      <td>4</td>\n",
              "      <td>92</td>\n",
              "      <td>2</td>\n",
              "      <td>...</td>\n",
              "      <td>3</td>\n",
              "      <td>2</td>\n",
              "      <td>0</td>\n",
              "      <td>7</td>\n",
              "      <td>3</td>\n",
              "      <td>3</td>\n",
              "      <td>0</td>\n",
              "      <td>0</td>\n",
              "      <td>0</td>\n",
              "      <td>0</td>\n",
              "    </tr>\n",
              "    <tr>\n",
              "      <th>3</th>\n",
              "      <td>33</td>\n",
              "      <td>No</td>\n",
              "      <td>Travel_Frequently</td>\n",
              "      <td>Research &amp; Development</td>\n",
              "      <td>3</td>\n",
              "      <td>4</td>\n",
              "      <td>Life Sciences</td>\n",
              "      <td>4</td>\n",
              "      <td>56</td>\n",
              "      <td>3</td>\n",
              "      <td>...</td>\n",
              "      <td>3</td>\n",
              "      <td>3</td>\n",
              "      <td>0</td>\n",
              "      <td>8</td>\n",
              "      <td>3</td>\n",
              "      <td>3</td>\n",
              "      <td>8</td>\n",
              "      <td>7</td>\n",
              "      <td>3</td>\n",
              "      <td>0</td>\n",
              "    </tr>\n",
              "    <tr>\n",
              "      <th>4</th>\n",
              "      <td>27</td>\n",
              "      <td>No</td>\n",
              "      <td>Travel_Rarely</td>\n",
              "      <td>Research &amp; Development</td>\n",
              "      <td>2</td>\n",
              "      <td>1</td>\n",
              "      <td>Medical</td>\n",
              "      <td>1</td>\n",
              "      <td>40</td>\n",
              "      <td>3</td>\n",
              "      <td>...</td>\n",
              "      <td>3</td>\n",
              "      <td>4</td>\n",
              "      <td>1</td>\n",
              "      <td>6</td>\n",
              "      <td>3</td>\n",
              "      <td>3</td>\n",
              "      <td>2</td>\n",
              "      <td>2</td>\n",
              "      <td>2</td>\n",
              "      <td>2</td>\n",
              "    </tr>\n",
              "  </tbody>\n",
              "</table>\n",
              "<p>5 rows × 27 columns</p>\n",
              "</div>"
            ],
            "text/plain": [
              "   Age Attrition     BusinessTravel              Department  DistanceFromHome  \\\n",
              "0   41       Yes      Travel_Rarely                   Sales                 1   \n",
              "1   49        No  Travel_Frequently  Research & Development                 8   \n",
              "2   37       Yes      Travel_Rarely  Research & Development                 2   \n",
              "3   33        No  Travel_Frequently  Research & Development                 3   \n",
              "4   27        No      Travel_Rarely  Research & Development                 2   \n",
              "\n",
              "   Education EducationField  EnvironmentSatisfaction  HourlyRate  \\\n",
              "0          2  Life Sciences                        2          94   \n",
              "1          1  Life Sciences                        3          61   \n",
              "2          2          Other                        4          92   \n",
              "3          4  Life Sciences                        4          56   \n",
              "4          1        Medical                        1          40   \n",
              "\n",
              "   JobInvolvement  ...  PerformanceRating RelationshipSatisfaction  \\\n",
              "0               3  ...                  3                        1   \n",
              "1               2  ...                  4                        4   \n",
              "2               2  ...                  3                        2   \n",
              "3               3  ...                  3                        3   \n",
              "4               3  ...                  3                        4   \n",
              "\n",
              "   StockOptionLevel TotalWorkingYears  TrainingTimesLastYear WorkLifeBalance  \\\n",
              "0                 0                 8                      0               1   \n",
              "1                 1                10                      3               3   \n",
              "2                 0                 7                      3               3   \n",
              "3                 0                 8                      3               3   \n",
              "4                 1                 6                      3               3   \n",
              "\n",
              "   YearsAtCompany  YearsInCurrentRole  YearsSinceLastPromotion  \\\n",
              "0               6                   4                        0   \n",
              "1              10                   7                        1   \n",
              "2               0                   0                        0   \n",
              "3               8                   7                        3   \n",
              "4               2                   2                        2   \n",
              "\n",
              "   YearsWithCurrManager  \n",
              "0                     5  \n",
              "1                     7  \n",
              "2                     0  \n",
              "3                     0  \n",
              "4                     2  \n",
              "\n",
              "[5 rows x 27 columns]"
            ]
          },
          "execution_count": 1,
          "metadata": {},
          "output_type": "execute_result"
        }
      ],
      "source": [
        "# Import our dependencies\n",
        "from sklearn.model_selection import train_test_split\n",
        "from sklearn.preprocessing import StandardScaler\n",
        "import pandas as pd\n",
        "import numpy as np\n",
        "import tensorflow as tf\n",
        "from tensorflow.keras.layers import Input, Dense, concatenate\n",
        "from tensorflow.keras.models import Model\n",
        "from tensorflow.keras import layers\n",
        "\n",
        "#  Import and read the attrition data\n",
        "attrition_df = pd.read_csv('https://static.bc-edx.com/ai/ail-v-1-0/m19/lms/datasets/attrition.csv')\n",
        "attrition_df.head()"
      ]
    },
    {
      "cell_type": "code",
      "execution_count": 2,
      "metadata": {
        "colab": {
          "base_uri": "https://localhost:8080/"
        },
        "id": "g22aQSY4Gc3Q",
        "outputId": "1f5c13c1-b981-4e40-a7ed-dd3fe6f1b81e"
      },
      "outputs": [
        {
          "data": {
            "text/plain": [
              "Age                         43\n",
              "Attrition                    2\n",
              "BusinessTravel               3\n",
              "Department                   3\n",
              "DistanceFromHome            29\n",
              "Education                    5\n",
              "EducationField               6\n",
              "EnvironmentSatisfaction      4\n",
              "HourlyRate                  71\n",
              "JobInvolvement               4\n",
              "JobLevel                     5\n",
              "JobRole                      9\n",
              "JobSatisfaction              4\n",
              "MaritalStatus                3\n",
              "NumCompaniesWorked          10\n",
              "OverTime                     2\n",
              "PercentSalaryHike           15\n",
              "PerformanceRating            2\n",
              "RelationshipSatisfaction     4\n",
              "StockOptionLevel             4\n",
              "TotalWorkingYears           40\n",
              "TrainingTimesLastYear        7\n",
              "WorkLifeBalance              4\n",
              "YearsAtCompany              37\n",
              "YearsInCurrentRole          19\n",
              "YearsSinceLastPromotion     16\n",
              "YearsWithCurrManager        18\n",
              "dtype: int64"
            ]
          },
          "execution_count": 2,
          "metadata": {},
          "output_type": "execute_result"
        }
      ],
      "source": [
        "# Determine the number of unique values in each column.\n",
        "attrition_df.nunique()"
      ]
    },
    {
      "cell_type": "code",
      "execution_count": 3,
      "metadata": {
        "id": "50vMgBEnJbfM"
      },
      "outputs": [
        {
          "data": {
            "text/plain": [
              "Department\n",
              "Research & Development    961\n",
              "Sales                     446\n",
              "Human Resources            63\n",
              "Name: count, dtype: int64"
            ]
          },
          "execution_count": 3,
          "metadata": {},
          "output_type": "execute_result"
        }
      ],
      "source": [
        "# Create y_df with the Attrition and Department columns\n",
        "y_df = attrition_df[['Attrition', 'Department']]\n",
        "y_df.head()\n",
        "# show how many unique values there are for the Department column\n",
        "y_df['Department'].value_counts()"
      ]
    },
    {
      "cell_type": "code",
      "execution_count": 4,
      "metadata": {
        "colab": {
          "base_uri": "https://localhost:8080/"
        },
        "id": "Virka0zLGc3R",
        "outputId": "dd5aee3a-9458-4ba6-e857-1b234de40915"
      },
      "outputs": [
        {
          "data": {
            "text/plain": [
              "Age                         int64\n",
              "BusinessTravel             object\n",
              "NumCompaniesWorked          int64\n",
              "DistanceFromHome            int64\n",
              "Education                   int64\n",
              "EnvironmentSatisfaction     int64\n",
              "PercentSalaryHike           int64\n",
              "YearsSinceLastPromotion     int64\n",
              "StockOptionLevel            int64\n",
              "TrainingTimesLastYear       int64\n",
              "dtype: object"
            ]
          },
          "execution_count": 4,
          "metadata": {},
          "output_type": "execute_result"
        }
      ],
      "source": [
        "# Create a list of at least 10 column names to use as X data\n",
        "selected_columns = ['Age', 'BusinessTravel', 'NumCompaniesWorked', 'DistanceFromHome', 'Education', 'EnvironmentSatisfaction', 'PercentSalaryHike', 'YearsSinceLastPromotion', 'StockOptionLevel', 'TrainingTimesLastYear']\n",
        "\n",
        "# Create X_df using your selected columns\n",
        "X_df = attrition_df[selected_columns]\n",
        "\n",
        "# Show the data types for X_df\n",
        "X_df.dtypes\n"
      ]
    },
    {
      "cell_type": "code",
      "execution_count": 5,
      "metadata": {
        "id": "KaJfdOGUMHMR"
      },
      "outputs": [],
      "source": [
        "# Split the data into training and testing sets\n",
        "from sklearn.model_selection import train_test_split\n",
        "X_train, X_test, y_train, y_test = train_test_split(X_df, y_df, random_state=78)\n"
      ]
    },
    {
      "cell_type": "code",
      "execution_count": 6,
      "metadata": {
        "colab": {
          "base_uri": "https://localhost:8080/"
        },
        "id": "NYubUJqiLCSp",
        "outputId": "53f31721-571c-4c94-d13e-25a715749593"
      },
      "outputs": [],
      "source": [
        "# Convert your X data to numeric data types however you see fit\n",
        "# Add new code cells as necessary\n",
        "X_train = pd.get_dummies(X_train)\n",
        "X_test = pd.get_dummies(X_test)"
      ]
    },
    {
      "cell_type": "code",
      "execution_count": 7,
      "metadata": {
        "id": "EWA-aIA5Gc3T"
      },
      "outputs": [],
      "source": [
        "# Create a StandardScaler\n",
        "scaler = StandardScaler()\n",
        "\n",
        "# Fit the StandardScaler to the training data\n",
        "X_scaler = scaler.fit(X_train)\n",
        "\n",
        "# Scale the training and testing data\n",
        "X_train_scaled = X_scaler.transform(X_train)\n",
        "X_test_scaled = X_scaler.transform(X_test)\n"
      ]
    },
    {
      "cell_type": "code",
      "execution_count": 8,
      "metadata": {
        "colab": {
          "base_uri": "https://localhost:8080/"
        },
        "id": "-z0Mky8vQSz4",
        "outputId": "debefc85-c20b-48f5-f4d9-91eadd65d36a"
      },
      "outputs": [],
      "source": [
        "# Create a OneHotEncoder for the Department column\n",
        "from sklearn.preprocessing import OneHotEncoder\n",
        "enc = OneHotEncoder()\n",
        "\n",
        "# Fit the encoder to the training data\n",
        "enc.fit(y_train['Department'].values.reshape(-1, 1))\n",
        "\n",
        "# Create two new variables by applying the encoder\n",
        "# to the training and testing data\n",
        "encoded_y_train = enc.transform(y_train['Department'].values.reshape(-1, 1))\n",
        "encoded_y_test = enc.transform(y_test['Department'].values.reshape(-1, 1))\n",
        "\n"
      ]
    },
    {
      "cell_type": "code",
      "execution_count": 9,
      "metadata": {
        "colab": {
          "base_uri": "https://localhost:8080/"
        },
        "id": "-G4DSpvFRrk4",
        "outputId": "9842e948-8a55-4b80-8fac-f96714e85589"
      },
      "outputs": [],
      "source": [
        "# Create a OneHotEncoder for the Attrition column\n",
        "enc = OneHotEncoder()\n",
        "\n",
        "# Fit the encoder to the training data\n",
        "enc.fit(y_train['Attrition'].values.reshape(-1, 1))\n",
        "\n",
        "# Create two new variables by applying the encoder\n",
        "# to the training and testing data\n",
        "encoded_y_train_attrition = enc.transform(y_train['Attrition'].values.reshape(-1, 1))\n",
        "encoded_y_test_attrition = enc.transform(y_test['Attrition'].values.reshape(-1, 1))\n"
      ]
    },
    {
      "cell_type": "markdown",
      "metadata": {
        "id": "ykNmu_WWGc3T"
      },
      "source": [
        "## Create, Compile, and Train the Model"
      ]
    },
    {
      "cell_type": "code",
      "execution_count": 10,
      "metadata": {
        "id": "WUptZqmSGc3T"
      },
      "outputs": [
        {
          "name": "stdout",
          "output_type": "stream",
          "text": [
            "WARNING:tensorflow:From c:\\Users\\Robert\\.conda\\envs\\dev\\lib\\site-packages\\keras\\src\\backend.py:1398: The name tf.executing_eagerly_outside_functions is deprecated. Please use tf.compat.v1.executing_eagerly_outside_functions instead.\n",
            "\n"
          ]
        }
      ],
      "source": [
        "# Find the number of columns in the X training data\n",
        "input_features = X_train_scaled.shape[1]\n",
        "# Create the input layer\n",
        "input_layer = layers.Input(shape=(X_train_scaled.shape[1],))\n",
        "\n",
        "# Create at least two shared layers\n",
        "shared_layer1 = layers.Dense(units=64, activation='relu')(input_layer)\n",
        "shared_layer2 = layers.Dense(units=32, activation='relu')(shared_layer1)"
      ]
    },
    {
      "cell_type": "code",
      "execution_count": 11,
      "metadata": {
        "id": "JukjTm2yTEqd"
      },
      "outputs": [],
      "source": [
        "# Create a branch for Department\n",
        "# with a hidden layer and an output layer\n",
        "department_branch = shared_layer2\n",
        "\n",
        "# Create the hidden layer\n",
        "hidden_layer_department = layers.Dense(units=3, activation='relu')(department_branch)\n",
        "\n",
        "# Create the output layer\n",
        "output_layer_department = layers.Dense(units=3, activation='softmax', name='department_output')(hidden_layer_department)"
      ]
    },
    {
      "cell_type": "code",
      "execution_count": 12,
      "metadata": {
        "id": "9OqhUiOJUBkR"
      },
      "outputs": [],
      "source": [
        "# Create a branch for Attrition\n",
        "# with a hidden layer and an output layer\n",
        "attrition_branch = shared_layer2\n",
        "# Create the hidden layer\n",
        "hidden_layer_attrition = layers.Dense(units=2, activation='relu')(attrition_branch)\n",
        "\n",
        "# Create the output layer\n",
        "output_layer_attrition = layers.Dense(units=1, activation='sigmoid', name='attrition_output')(hidden_layer_attrition)"
      ]
    },
    {
      "cell_type": "code",
      "execution_count": 13,
      "metadata": {
        "colab": {
          "base_uri": "https://localhost:8080/"
        },
        "id": "twmuejdxGc3T",
        "outputId": "25096308-b68b-42e4-e4ea-ae82e97c435a"
      },
      "outputs": [
        {
          "name": "stdout",
          "output_type": "stream",
          "text": [
            "WARNING:tensorflow:From c:\\Users\\Robert\\.conda\\envs\\dev\\lib\\site-packages\\keras\\src\\optimizers\\__init__.py:309: The name tf.train.Optimizer is deprecated. Please use tf.compat.v1.train.Optimizer instead.\n",
            "\n",
            "Model: \"model\"\n",
            "__________________________________________________________________________________________________\n",
            " Layer (type)                Output Shape                 Param #   Connected to                  \n",
            "==================================================================================================\n",
            " input_1 (InputLayer)        [(None, 12)]                 0         []                            \n",
            "                                                                                                  \n",
            " dense (Dense)               (None, 64)                   832       ['input_1[0][0]']             \n",
            "                                                                                                  \n",
            " dense_1 (Dense)             (None, 32)                   2080      ['dense[0][0]']               \n",
            "                                                                                                  \n",
            " dense_2 (Dense)             (None, 3)                    99        ['dense_1[0][0]']             \n",
            "                                                                                                  \n",
            " dense_3 (Dense)             (None, 2)                    66        ['dense_1[0][0]']             \n",
            "                                                                                                  \n",
            " department_output (Dense)   (None, 3)                    12        ['dense_2[0][0]']             \n",
            "                                                                                                  \n",
            " attrition_output (Dense)    (None, 1)                    3         ['dense_3[0][0]']             \n",
            "                                                                                                  \n",
            "==================================================================================================\n",
            "Total params: 3092 (12.08 KB)\n",
            "Trainable params: 3092 (12.08 KB)\n",
            "Non-trainable params: 0 (0.00 Byte)\n",
            "__________________________________________________________________________________________________\n"
          ]
        }
      ],
      "source": [
        "# Create the model\n",
        "model = Model(inputs=input_layer, outputs=[output_layer_department, output_layer_attrition])\n",
        "\n",
        "# Compile the model\n",
        "model.compile(optimizer='adam',\n",
        "              loss={'department_output': 'categorical_crossentropy',\n",
        "                    'attrition_output': 'binary_crossentropy'},\n",
        "              metrics=['accuracy'])\n",
        "\n",
        "# Summarize the model\n",
        "model.summary()"
      ]
    },
    {
      "cell_type": "code",
      "execution_count": 14,
      "metadata": {
        "colab": {
          "base_uri": "https://localhost:8080/"
        },
        "id": "c8oGy0dpGc3U",
        "outputId": "cc667d43-28cf-42d4-d719-c2bc02888d30"
      },
      "outputs": [
        {
          "name": "stdout",
          "output_type": "stream",
          "text": [
            "Epoch 1/100\n",
            "WARNING:tensorflow:From c:\\Users\\Robert\\.conda\\envs\\dev\\lib\\site-packages\\keras\\src\\engine\\base_layer_utils.py:384: The name tf.executing_eagerly_outside_functions is deprecated. Please use tf.compat.v1.executing_eagerly_outside_functions instead.\n",
            "\n",
            "WARNING:tensorflow:From c:\\Users\\Robert\\.conda\\envs\\dev\\lib\\site-packages\\keras\\src\\utils\\tf_utils.py:492: The name tf.ragged.RaggedTensorValue is deprecated. Please use tf.compat.v1.ragged.RaggedTensorValue instead.\n",
            "\n",
            "35/35 - 1s - loss: 1.8020 - department_output_loss: 1.0657 - attrition_output_loss: 0.7363 - department_output_accuracy: 0.4936 - attrition_output_accuracy: 0.5590 - 901ms/epoch - 26ms/step\n",
            "Epoch 2/100\n",
            "35/35 - 0s - loss: 1.5853 - department_output_loss: 0.9069 - attrition_output_loss: 0.6784 - department_output_accuracy: 0.6570 - attrition_output_accuracy: 0.8212 - 29ms/epoch - 829us/step\n",
            "Epoch 3/100\n",
            "35/35 - 0s - loss: 1.4649 - department_output_loss: 0.7973 - attrition_output_loss: 0.6676 - department_output_accuracy: 0.6661 - attrition_output_accuracy: 0.8267 - 29ms/epoch - 829us/step\n",
            "Epoch 4/100\n",
            "35/35 - 0s - loss: 1.4173 - department_output_loss: 0.7596 - attrition_output_loss: 0.6578 - department_output_accuracy: 0.6652 - attrition_output_accuracy: 0.8276 - 29ms/epoch - 829us/step\n",
            "Epoch 5/100\n",
            "35/35 - 0s - loss: 1.3963 - department_output_loss: 0.7481 - attrition_output_loss: 0.6482 - department_output_accuracy: 0.6670 - attrition_output_accuracy: 0.8285 - 28ms/epoch - 801us/step\n",
            "Epoch 6/100\n",
            "35/35 - 0s - loss: 1.3805 - department_output_loss: 0.7416 - attrition_output_loss: 0.6390 - department_output_accuracy: 0.6670 - attrition_output_accuracy: 0.8285 - 29ms/epoch - 829us/step\n",
            "Epoch 7/100\n",
            "35/35 - 0s - loss: 1.3664 - department_output_loss: 0.7361 - attrition_output_loss: 0.6303 - department_output_accuracy: 0.6661 - attrition_output_accuracy: 0.8285 - 28ms/epoch - 801us/step\n",
            "Epoch 8/100\n",
            "35/35 - 0s - loss: 1.3525 - department_output_loss: 0.7306 - attrition_output_loss: 0.6218 - department_output_accuracy: 0.6706 - attrition_output_accuracy: 0.8276 - 29ms/epoch - 829us/step\n",
            "Epoch 9/100\n",
            "35/35 - 0s - loss: 1.3403 - department_output_loss: 0.7265 - attrition_output_loss: 0.6137 - department_output_accuracy: 0.6742 - attrition_output_accuracy: 0.8285 - 28ms/epoch - 801us/step\n",
            "Epoch 10/100\n",
            "35/35 - 0s - loss: 1.3296 - department_output_loss: 0.7235 - attrition_output_loss: 0.6061 - department_output_accuracy: 0.6779 - attrition_output_accuracy: 0.8276 - 27ms/epoch - 772us/step\n",
            "Epoch 11/100\n",
            "35/35 - 0s - loss: 1.3185 - department_output_loss: 0.7200 - attrition_output_loss: 0.5986 - department_output_accuracy: 0.6806 - attrition_output_accuracy: 0.8276 - 28ms/epoch - 801us/step\n",
            "Epoch 12/100\n",
            "35/35 - 0s - loss: 1.3068 - department_output_loss: 0.7152 - attrition_output_loss: 0.5916 - department_output_accuracy: 0.6797 - attrition_output_accuracy: 0.8285 - 29ms/epoch - 829us/step\n",
            "Epoch 13/100\n",
            "35/35 - 0s - loss: 1.2969 - department_output_loss: 0.7123 - attrition_output_loss: 0.5846 - department_output_accuracy: 0.6860 - attrition_output_accuracy: 0.8276 - 28ms/epoch - 801us/step\n",
            "Epoch 14/100\n",
            "35/35 - 0s - loss: 1.2857 - department_output_loss: 0.7076 - attrition_output_loss: 0.5782 - department_output_accuracy: 0.6833 - attrition_output_accuracy: 0.8276 - 28ms/epoch - 801us/step\n",
            "Epoch 15/100\n",
            "35/35 - 0s - loss: 1.2765 - department_output_loss: 0.7046 - attrition_output_loss: 0.5719 - department_output_accuracy: 0.6860 - attrition_output_accuracy: 0.8276 - 28ms/epoch - 801us/step\n",
            "Epoch 16/100\n",
            "35/35 - 0s - loss: 1.2662 - department_output_loss: 0.7002 - attrition_output_loss: 0.5660 - department_output_accuracy: 0.6869 - attrition_output_accuracy: 0.8276 - 28ms/epoch - 801us/step\n",
            "Epoch 17/100\n",
            "35/35 - 0s - loss: 1.2564 - department_output_loss: 0.6962 - attrition_output_loss: 0.5602 - department_output_accuracy: 0.6887 - attrition_output_accuracy: 0.8276 - 28ms/epoch - 801us/step\n",
            "Epoch 18/100\n",
            "35/35 - 0s - loss: 1.2504 - department_output_loss: 0.6956 - attrition_output_loss: 0.5549 - department_output_accuracy: 0.6915 - attrition_output_accuracy: 0.8276 - 28ms/epoch - 801us/step\n",
            "Epoch 19/100\n",
            "35/35 - 0s - loss: 1.2368 - department_output_loss: 0.6872 - attrition_output_loss: 0.5497 - department_output_accuracy: 0.6978 - attrition_output_accuracy: 0.8276 - 28ms/epoch - 801us/step\n",
            "Epoch 20/100\n",
            "35/35 - 0s - loss: 1.2296 - department_output_loss: 0.6849 - attrition_output_loss: 0.5447 - department_output_accuracy: 0.6996 - attrition_output_accuracy: 0.8276 - 29ms/epoch - 829us/step\n",
            "Epoch 21/100\n",
            "35/35 - 0s - loss: 1.2263 - department_output_loss: 0.6863 - attrition_output_loss: 0.5400 - department_output_accuracy: 0.7015 - attrition_output_accuracy: 0.8276 - 28ms/epoch - 801us/step\n",
            "Epoch 22/100\n",
            "35/35 - 0s - loss: 1.2127 - department_output_loss: 0.6771 - attrition_output_loss: 0.5356 - department_output_accuracy: 0.6996 - attrition_output_accuracy: 0.8276 - 28ms/epoch - 801us/step\n",
            "Epoch 23/100\n",
            "35/35 - 0s - loss: 1.2038 - department_output_loss: 0.6724 - attrition_output_loss: 0.5314 - department_output_accuracy: 0.7015 - attrition_output_accuracy: 0.8276 - 28ms/epoch - 801us/step\n",
            "Epoch 24/100\n",
            "35/35 - 0s - loss: 1.1933 - department_output_loss: 0.6659 - attrition_output_loss: 0.5274 - department_output_accuracy: 0.7042 - attrition_output_accuracy: 0.8276 - 28ms/epoch - 801us/step\n",
            "Epoch 25/100\n",
            "35/35 - 0s - loss: 1.1836 - department_output_loss: 0.6600 - attrition_output_loss: 0.5236 - department_output_accuracy: 0.7096 - attrition_output_accuracy: 0.8276 - 28ms/epoch - 801us/step\n",
            "Epoch 26/100\n",
            "35/35 - 0s - loss: 1.1790 - department_output_loss: 0.6590 - attrition_output_loss: 0.5199 - department_output_accuracy: 0.7087 - attrition_output_accuracy: 0.8276 - 28ms/epoch - 801us/step\n",
            "Epoch 27/100\n",
            "35/35 - 0s - loss: 1.1688 - department_output_loss: 0.6523 - attrition_output_loss: 0.5165 - department_output_accuracy: 0.7060 - attrition_output_accuracy: 0.8276 - 27ms/epoch - 772us/step\n",
            "Epoch 28/100\n",
            "35/35 - 0s - loss: 1.1582 - department_output_loss: 0.6451 - attrition_output_loss: 0.5131 - department_output_accuracy: 0.7132 - attrition_output_accuracy: 0.8276 - 27ms/epoch - 772us/step\n",
            "Epoch 29/100\n",
            "35/35 - 0s - loss: 1.1542 - department_output_loss: 0.6442 - attrition_output_loss: 0.5100 - department_output_accuracy: 0.7151 - attrition_output_accuracy: 0.8276 - 28ms/epoch - 801us/step\n",
            "Epoch 30/100\n",
            "35/35 - 0s - loss: 1.1444 - department_output_loss: 0.6373 - attrition_output_loss: 0.5070 - department_output_accuracy: 0.7187 - attrition_output_accuracy: 0.8276 - 28ms/epoch - 801us/step\n",
            "Epoch 31/100\n",
            "35/35 - 0s - loss: 1.1348 - department_output_loss: 0.6307 - attrition_output_loss: 0.5041 - department_output_accuracy: 0.7205 - attrition_output_accuracy: 0.8276 - 28ms/epoch - 801us/step\n",
            "Epoch 32/100\n",
            "35/35 - 0s - loss: 1.1289 - department_output_loss: 0.6275 - attrition_output_loss: 0.5014 - department_output_accuracy: 0.7214 - attrition_output_accuracy: 0.8276 - 28ms/epoch - 801us/step\n",
            "Epoch 33/100\n",
            "35/35 - 0s - loss: 1.1180 - department_output_loss: 0.6191 - attrition_output_loss: 0.4989 - department_output_accuracy: 0.7359 - attrition_output_accuracy: 0.8276 - 28ms/epoch - 801us/step\n",
            "Epoch 34/100\n",
            "35/35 - 0s - loss: 1.1143 - department_output_loss: 0.6177 - attrition_output_loss: 0.4965 - department_output_accuracy: 0.7287 - attrition_output_accuracy: 0.8276 - 27ms/epoch - 772us/step\n",
            "Epoch 35/100\n",
            "35/35 - 0s - loss: 1.1023 - department_output_loss: 0.6081 - attrition_output_loss: 0.4943 - department_output_accuracy: 0.7414 - attrition_output_accuracy: 0.8276 - 28ms/epoch - 801us/step\n",
            "Epoch 36/100\n",
            "35/35 - 0s - loss: 1.0940 - department_output_loss: 0.6020 - attrition_output_loss: 0.4920 - department_output_accuracy: 0.7350 - attrition_output_accuracy: 0.8276 - 28ms/epoch - 801us/step\n",
            "Epoch 37/100\n",
            "35/35 - 0s - loss: 1.0891 - department_output_loss: 0.5990 - attrition_output_loss: 0.4901 - department_output_accuracy: 0.7405 - attrition_output_accuracy: 0.8276 - 28ms/epoch - 801us/step\n",
            "Epoch 38/100\n",
            "35/35 - 0s - loss: 1.0809 - department_output_loss: 0.5928 - attrition_output_loss: 0.4881 - department_output_accuracy: 0.7477 - attrition_output_accuracy: 0.8276 - 27ms/epoch - 772us/step\n",
            "Epoch 39/100\n",
            "35/35 - 0s - loss: 1.0781 - department_output_loss: 0.5918 - attrition_output_loss: 0.4863 - department_output_accuracy: 0.7514 - attrition_output_accuracy: 0.8276 - 28ms/epoch - 801us/step\n",
            "Epoch 40/100\n",
            "35/35 - 0s - loss: 1.0680 - department_output_loss: 0.5835 - attrition_output_loss: 0.4845 - department_output_accuracy: 0.7550 - attrition_output_accuracy: 0.8276 - 28ms/epoch - 801us/step\n",
            "Epoch 41/100\n",
            "35/35 - 0s - loss: 1.0540 - department_output_loss: 0.5710 - attrition_output_loss: 0.4829 - department_output_accuracy: 0.7523 - attrition_output_accuracy: 0.8276 - 27ms/epoch - 772us/step\n",
            "Epoch 42/100\n",
            "35/35 - 0s - loss: 1.0510 - department_output_loss: 0.5696 - attrition_output_loss: 0.4814 - department_output_accuracy: 0.7641 - attrition_output_accuracy: 0.8276 - 27ms/epoch - 772us/step\n",
            "Epoch 43/100\n",
            "35/35 - 0s - loss: 1.0421 - department_output_loss: 0.5621 - attrition_output_loss: 0.4800 - department_output_accuracy: 0.7686 - attrition_output_accuracy: 0.8276 - 28ms/epoch - 801us/step\n",
            "Epoch 44/100\n",
            "35/35 - 0s - loss: 1.0371 - department_output_loss: 0.5585 - attrition_output_loss: 0.4786 - department_output_accuracy: 0.7731 - attrition_output_accuracy: 0.8276 - 28ms/epoch - 801us/step\n",
            "Epoch 45/100\n",
            "35/35 - 0s - loss: 1.0261 - department_output_loss: 0.5489 - attrition_output_loss: 0.4772 - department_output_accuracy: 0.7704 - attrition_output_accuracy: 0.8276 - 28ms/epoch - 801us/step\n",
            "Epoch 46/100\n",
            "35/35 - 0s - loss: 1.0230 - department_output_loss: 0.5470 - attrition_output_loss: 0.4760 - department_output_accuracy: 0.7759 - attrition_output_accuracy: 0.8276 - 28ms/epoch - 801us/step\n",
            "Epoch 47/100\n",
            "35/35 - 0s - loss: 1.0106 - department_output_loss: 0.5358 - attrition_output_loss: 0.4749 - department_output_accuracy: 0.7750 - attrition_output_accuracy: 0.8276 - 28ms/epoch - 801us/step\n",
            "Epoch 48/100\n",
            "35/35 - 0s - loss: 1.0026 - department_output_loss: 0.5289 - attrition_output_loss: 0.4737 - department_output_accuracy: 0.7877 - attrition_output_accuracy: 0.8276 - 31ms/epoch - 887us/step\n",
            "Epoch 49/100\n",
            "35/35 - 0s - loss: 0.9983 - department_output_loss: 0.5256 - attrition_output_loss: 0.4727 - department_output_accuracy: 0.7786 - attrition_output_accuracy: 0.8276 - 28ms/epoch - 801us/step\n",
            "Epoch 50/100\n",
            "35/35 - 0s - loss: 0.9933 - department_output_loss: 0.5215 - attrition_output_loss: 0.4717 - department_output_accuracy: 0.7868 - attrition_output_accuracy: 0.8285 - 27ms/epoch - 772us/step\n",
            "Epoch 51/100\n",
            "35/35 - 0s - loss: 0.9851 - department_output_loss: 0.5141 - attrition_output_loss: 0.4710 - department_output_accuracy: 0.7976 - attrition_output_accuracy: 0.8285 - 27ms/epoch - 772us/step\n",
            "Epoch 52/100\n",
            "35/35 - 0s - loss: 0.9746 - department_output_loss: 0.5045 - attrition_output_loss: 0.4700 - department_output_accuracy: 0.7967 - attrition_output_accuracy: 0.8285 - 28ms/epoch - 801us/step\n",
            "Epoch 53/100\n",
            "35/35 - 0s - loss: 0.9744 - department_output_loss: 0.5052 - attrition_output_loss: 0.4692 - department_output_accuracy: 0.7904 - attrition_output_accuracy: 0.8285 - 28ms/epoch - 801us/step\n",
            "Epoch 54/100\n",
            "35/35 - 0s - loss: 0.9648 - department_output_loss: 0.4963 - attrition_output_loss: 0.4685 - department_output_accuracy: 0.8131 - attrition_output_accuracy: 0.8285 - 28ms/epoch - 801us/step\n",
            "Epoch 55/100\n",
            "35/35 - 0s - loss: 0.9535 - department_output_loss: 0.4857 - attrition_output_loss: 0.4678 - department_output_accuracy: 0.8122 - attrition_output_accuracy: 0.8285 - 28ms/epoch - 801us/step\n",
            "Epoch 56/100\n",
            "35/35 - 0s - loss: 0.9537 - department_output_loss: 0.4866 - attrition_output_loss: 0.4671 - department_output_accuracy: 0.8040 - attrition_output_accuracy: 0.8285 - 27ms/epoch - 772us/step\n",
            "Epoch 57/100\n",
            "35/35 - 0s - loss: 0.9442 - department_output_loss: 0.4778 - attrition_output_loss: 0.4665 - department_output_accuracy: 0.8176 - attrition_output_accuracy: 0.8285 - 28ms/epoch - 801us/step\n",
            "Epoch 58/100\n",
            "35/35 - 0s - loss: 0.9382 - department_output_loss: 0.4724 - attrition_output_loss: 0.4658 - department_output_accuracy: 0.8203 - attrition_output_accuracy: 0.8285 - 28ms/epoch - 801us/step\n",
            "Epoch 59/100\n",
            "35/35 - 0s - loss: 0.9321 - department_output_loss: 0.4671 - attrition_output_loss: 0.4650 - department_output_accuracy: 0.8176 - attrition_output_accuracy: 0.8285 - 28ms/epoch - 801us/step\n",
            "Epoch 60/100\n",
            "35/35 - 0s - loss: 0.9253 - department_output_loss: 0.4608 - attrition_output_loss: 0.4646 - department_output_accuracy: 0.8203 - attrition_output_accuracy: 0.8285 - 28ms/epoch - 801us/step\n",
            "Epoch 61/100\n",
            "35/35 - 0s - loss: 0.9170 - department_output_loss: 0.4530 - attrition_output_loss: 0.4640 - department_output_accuracy: 0.8330 - attrition_output_accuracy: 0.8285 - 27ms/epoch - 772us/step\n",
            "Epoch 62/100\n",
            "35/35 - 0s - loss: 0.9173 - department_output_loss: 0.4536 - attrition_output_loss: 0.4636 - department_output_accuracy: 0.8167 - attrition_output_accuracy: 0.8285 - 29ms/epoch - 829us/step\n",
            "Epoch 63/100\n",
            "35/35 - 0s - loss: 0.9069 - department_output_loss: 0.4437 - attrition_output_loss: 0.4632 - department_output_accuracy: 0.8303 - attrition_output_accuracy: 0.8285 - 27ms/epoch - 772us/step\n",
            "Epoch 64/100\n",
            "35/35 - 0s - loss: 0.8970 - department_output_loss: 0.4343 - attrition_output_loss: 0.4627 - department_output_accuracy: 0.8312 - attrition_output_accuracy: 0.8285 - 28ms/epoch - 801us/step\n",
            "Epoch 65/100\n",
            "35/35 - 0s - loss: 0.8978 - department_output_loss: 0.4354 - attrition_output_loss: 0.4624 - department_output_accuracy: 0.8376 - attrition_output_accuracy: 0.8285 - 28ms/epoch - 801us/step\n",
            "Epoch 66/100\n",
            "35/35 - 0s - loss: 0.8879 - department_output_loss: 0.4259 - attrition_output_loss: 0.4620 - department_output_accuracy: 0.8439 - attrition_output_accuracy: 0.8285 - 28ms/epoch - 801us/step\n",
            "Epoch 67/100\n",
            "35/35 - 0s - loss: 0.8824 - department_output_loss: 0.4208 - attrition_output_loss: 0.4616 - department_output_accuracy: 0.8403 - attrition_output_accuracy: 0.8285 - 28ms/epoch - 801us/step\n",
            "Epoch 68/100\n",
            "35/35 - 0s - loss: 0.8771 - department_output_loss: 0.4157 - attrition_output_loss: 0.4613 - department_output_accuracy: 0.8475 - attrition_output_accuracy: 0.8285 - 27ms/epoch - 772us/step\n",
            "Epoch 69/100\n",
            "35/35 - 0s - loss: 0.8766 - department_output_loss: 0.4156 - attrition_output_loss: 0.4610 - department_output_accuracy: 0.8439 - attrition_output_accuracy: 0.8285 - 27ms/epoch - 772us/step\n",
            "Epoch 70/100\n",
            "35/35 - 0s - loss: 0.8662 - department_output_loss: 0.4056 - attrition_output_loss: 0.4606 - department_output_accuracy: 0.8548 - attrition_output_accuracy: 0.8285 - 28ms/epoch - 801us/step\n",
            "Epoch 71/100\n",
            "35/35 - 0s - loss: 0.8662 - department_output_loss: 0.4057 - attrition_output_loss: 0.4605 - department_output_accuracy: 0.8485 - attrition_output_accuracy: 0.8285 - 27ms/epoch - 772us/step\n",
            "Epoch 72/100\n",
            "35/35 - 0s - loss: 0.8564 - department_output_loss: 0.3962 - attrition_output_loss: 0.4602 - department_output_accuracy: 0.8530 - attrition_output_accuracy: 0.8285 - 28ms/epoch - 801us/step\n",
            "Epoch 73/100\n",
            "35/35 - 0s - loss: 0.8486 - department_output_loss: 0.3887 - attrition_output_loss: 0.4600 - department_output_accuracy: 0.8630 - attrition_output_accuracy: 0.8285 - 27ms/epoch - 772us/step\n",
            "Epoch 74/100\n",
            "35/35 - 0s - loss: 0.8516 - department_output_loss: 0.3917 - attrition_output_loss: 0.4599 - department_output_accuracy: 0.8539 - attrition_output_accuracy: 0.8285 - 28ms/epoch - 801us/step\n",
            "Epoch 75/100\n",
            "35/35 - 0s - loss: 0.8341 - department_output_loss: 0.3745 - attrition_output_loss: 0.4596 - department_output_accuracy: 0.8666 - attrition_output_accuracy: 0.8285 - 28ms/epoch - 801us/step\n",
            "Epoch 76/100\n",
            "35/35 - 0s - loss: 0.8312 - department_output_loss: 0.3718 - attrition_output_loss: 0.4595 - department_output_accuracy: 0.8693 - attrition_output_accuracy: 0.8285 - 28ms/epoch - 801us/step\n",
            "Epoch 77/100\n",
            "35/35 - 0s - loss: 0.8291 - department_output_loss: 0.3698 - attrition_output_loss: 0.4593 - department_output_accuracy: 0.8648 - attrition_output_accuracy: 0.8285 - 28ms/epoch - 801us/step\n",
            "Epoch 78/100\n",
            "35/35 - 0s - loss: 0.8268 - department_output_loss: 0.3678 - attrition_output_loss: 0.4590 - department_output_accuracy: 0.8593 - attrition_output_accuracy: 0.8285 - 28ms/epoch - 801us/step\n",
            "Epoch 79/100\n",
            "35/35 - 0s - loss: 0.8175 - department_output_loss: 0.3585 - attrition_output_loss: 0.4590 - department_output_accuracy: 0.8684 - attrition_output_accuracy: 0.8294 - 28ms/epoch - 801us/step\n",
            "Epoch 80/100\n",
            "35/35 - 0s - loss: 0.8100 - department_output_loss: 0.3512 - attrition_output_loss: 0.4588 - department_output_accuracy: 0.8721 - attrition_output_accuracy: 0.8294 - 28ms/epoch - 801us/step\n",
            "Epoch 81/100\n",
            "35/35 - 0s - loss: 0.8077 - department_output_loss: 0.3490 - attrition_output_loss: 0.4587 - department_output_accuracy: 0.8739 - attrition_output_accuracy: 0.8294 - 28ms/epoch - 801us/step\n",
            "Epoch 82/100\n",
            "35/35 - 0s - loss: 0.8005 - department_output_loss: 0.3419 - attrition_output_loss: 0.4586 - department_output_accuracy: 0.8684 - attrition_output_accuracy: 0.8285 - 30ms/epoch - 858us/step\n",
            "Epoch 83/100\n",
            "35/35 - 0s - loss: 0.7964 - department_output_loss: 0.3379 - attrition_output_loss: 0.4585 - department_output_accuracy: 0.8793 - attrition_output_accuracy: 0.8294 - 28ms/epoch - 801us/step\n",
            "Epoch 84/100\n",
            "35/35 - 0s - loss: 0.7878 - department_output_loss: 0.3294 - attrition_output_loss: 0.4584 - department_output_accuracy: 0.8802 - attrition_output_accuracy: 0.8294 - 28ms/epoch - 801us/step\n",
            "Epoch 85/100\n",
            "35/35 - 0s - loss: 0.7847 - department_output_loss: 0.3264 - attrition_output_loss: 0.4583 - department_output_accuracy: 0.8838 - attrition_output_accuracy: 0.8294 - 28ms/epoch - 801us/step\n",
            "Epoch 86/100\n",
            "35/35 - 0s - loss: 0.7848 - department_output_loss: 0.3264 - attrition_output_loss: 0.4583 - department_output_accuracy: 0.8811 - attrition_output_accuracy: 0.8285 - 28ms/epoch - 801us/step\n",
            "Epoch 87/100\n",
            "35/35 - 0s - loss: 0.7731 - department_output_loss: 0.3150 - attrition_output_loss: 0.4581 - department_output_accuracy: 0.8956 - attrition_output_accuracy: 0.8294 - 28ms/epoch - 801us/step\n",
            "Epoch 88/100\n",
            "35/35 - 0s - loss: 0.7748 - department_output_loss: 0.3168 - attrition_output_loss: 0.4580 - department_output_accuracy: 0.8866 - attrition_output_accuracy: 0.8294 - 28ms/epoch - 801us/step\n",
            "Epoch 89/100\n",
            "35/35 - 0s - loss: 0.7710 - department_output_loss: 0.3130 - attrition_output_loss: 0.4580 - department_output_accuracy: 0.8893 - attrition_output_accuracy: 0.8294 - 28ms/epoch - 801us/step\n",
            "Epoch 90/100\n",
            "35/35 - 0s - loss: 0.7638 - department_output_loss: 0.3058 - attrition_output_loss: 0.4580 - department_output_accuracy: 0.8938 - attrition_output_accuracy: 0.8294 - 28ms/epoch - 801us/step\n",
            "Epoch 91/100\n",
            "35/35 - 0s - loss: 0.7593 - department_output_loss: 0.3015 - attrition_output_loss: 0.4578 - department_output_accuracy: 0.8984 - attrition_output_accuracy: 0.8294 - 28ms/epoch - 801us/step\n",
            "Epoch 92/100\n",
            "35/35 - 0s - loss: 0.7529 - department_output_loss: 0.2951 - attrition_output_loss: 0.4578 - department_output_accuracy: 0.8975 - attrition_output_accuracy: 0.8294 - 28ms/epoch - 801us/step\n",
            "Epoch 93/100\n",
            "35/35 - 0s - loss: 0.7586 - department_output_loss: 0.3009 - attrition_output_loss: 0.4578 - department_output_accuracy: 0.8956 - attrition_output_accuracy: 0.8294 - 28ms/epoch - 801us/step\n",
            "Epoch 94/100\n",
            "35/35 - 0s - loss: 0.7498 - department_output_loss: 0.2920 - attrition_output_loss: 0.4578 - department_output_accuracy: 0.8984 - attrition_output_accuracy: 0.8294 - 28ms/epoch - 801us/step\n",
            "Epoch 95/100\n",
            "35/35 - 0s - loss: 0.7406 - department_output_loss: 0.2830 - attrition_output_loss: 0.4576 - department_output_accuracy: 0.9029 - attrition_output_accuracy: 0.8294 - 28ms/epoch - 801us/step\n",
            "Epoch 96/100\n",
            "35/35 - 0s - loss: 0.7376 - department_output_loss: 0.2800 - attrition_output_loss: 0.4576 - department_output_accuracy: 0.9011 - attrition_output_accuracy: 0.8294 - 28ms/epoch - 801us/step\n",
            "Epoch 97/100\n",
            "35/35 - 0s - loss: 0.7388 - department_output_loss: 0.2813 - attrition_output_loss: 0.4575 - department_output_accuracy: 0.8966 - attrition_output_accuracy: 0.8294 - 28ms/epoch - 801us/step\n",
            "Epoch 98/100\n",
            "35/35 - 0s - loss: 0.7292 - department_output_loss: 0.2716 - attrition_output_loss: 0.4576 - department_output_accuracy: 0.9074 - attrition_output_accuracy: 0.8294 - 28ms/epoch - 801us/step\n",
            "Epoch 99/100\n",
            "35/35 - 0s - loss: 0.7220 - department_output_loss: 0.2644 - attrition_output_loss: 0.4576 - department_output_accuracy: 0.9129 - attrition_output_accuracy: 0.8294 - 28ms/epoch - 801us/step\n",
            "Epoch 100/100\n",
            "35/35 - 0s - loss: 0.7333 - department_output_loss: 0.2759 - attrition_output_loss: 0.4575 - department_output_accuracy: 0.9011 - attrition_output_accuracy: 0.8294 - 28ms/epoch - 801us/step\n"
          ]
        },
        {
          "data": {
            "text/plain": [
              "<keras.src.callbacks.History at 0x25d5b454c40>"
            ]
          },
          "execution_count": 14,
          "metadata": {},
          "output_type": "execute_result"
        }
      ],
      "source": [
        "# Define the variables y_train_department and y_train_attrition and convert y_train_attrition to 0s and 1s\n",
        "y_train_department = encoded_y_train.toarray()\n",
        "y_train_attrition = encoded_y_train_attrition.toarray()\n",
        "\n",
        "# Modify the shape of y_train_attrition to match the output layer shape\n",
        "y_train_attrition = encoded_y_train_attrition.toarray()[:, 1]\n",
        "y_test_attrition = encoded_y_test_attrition.toarray()[:, 1]\n",
        "\n",
        "# Train the model\n",
        "model.fit(X_train_scaled, [y_train_department, y_train_attrition], epochs=100, verbose=2)\n"
      ]
    },
    {
      "cell_type": "code",
      "execution_count": 15,
      "metadata": {
        "colab": {
          "base_uri": "https://localhost:8080/"
        },
        "id": "VsMoaQlgGc3U",
        "outputId": "1bd4e601-e964-4abc-ad83-aeecf6b696be"
      },
      "outputs": [
        {
          "name": "stdout",
          "output_type": "stream",
          "text": [
            "12/12 - 0s - loss: 2.0592 - department_output_loss: 1.6672 - attrition_output_loss: 0.3920 - department_output_accuracy: 0.5217 - attrition_output_accuracy: 0.8723 - 168ms/epoch - 14ms/step\n"
          ]
        }
      ],
      "source": [
        "# Evaluate the model with the testing data\n",
        "total_loss, loss_department, loss_attrition, accuracy_department, accuracy_attrition = model.evaluate(X_test_scaled, [encoded_y_test.toarray(), y_test_attrition], verbose=2)\n"
      ]
    },
    {
      "cell_type": "code",
      "execution_count": 16,
      "metadata": {
        "colab": {
          "base_uri": "https://localhost:8080/"
        },
        "id": "ZlCtlHi0Vt54",
        "outputId": "bc21ef3e-80c2-4b38-9c29-79515bc23dec"
      },
      "outputs": [
        {
          "name": "stdout",
          "output_type": "stream",
          "text": [
            "12/12 - 0s - loss: 2.0592 - department_output_loss: 1.6672 - attrition_output_loss: 0.3920 - department_output_accuracy: 0.5217 - attrition_output_accuracy: 0.8723 - 24ms/epoch - 2ms/step\n",
            "Department Accuracy: 0.52173912525177\n",
            "Attrition Accuracy: 0.8722826242446899\n"
          ]
        }
      ],
      "source": [
        "# Calculate and print the accuracy for both department and attrition\n",
        "_, _, _, accuracy_department, accuracy_attrition = model.evaluate(X_test_scaled, [encoded_y_test.toarray(), y_test_attrition], verbose=2)\n",
        "print(f\"Department Accuracy: {accuracy_department}\")\n",
        "print(f\"Attrition Accuracy: {accuracy_attrition}\")\n"
      ]
    },
    {
      "cell_type": "markdown",
      "metadata": {
        "id": "eGSyfsZfWOQM"
      },
      "source": [
        "# Summary\n",
        "\n",
        "In the provided space below, briefly answer the following questions.\n",
        "\n",
        "1. Is accuracy the best metric to use on this data? Why or why not?\n",
        "\n",
        "2. What activation functions did you choose for your output layers, and why?\n",
        "\n",
        "3. Can you name a few ways that this model might be improved?"
      ]
    },
    {
      "cell_type": "markdown",
      "metadata": {
        "id": "pi9SLpFnWvbF"
      },
      "source": [
        "YOUR ANSWERS HERE\n",
        "\n",
        "1. I do not think so. The data consists of 3 different departments (with disproportionate representation), utilizing 10 selected columns to assess attrition. Our department accuracy was quite low compared to attrition accuracy. The disparity in accuracy is most likely due to the fact that the 3 unique values for department are very unbalanced.\n",
        "2. I used softmax for department because it has 3 variables, being sales, research and development, and human resources. I used sigmoid for attrition because it is a binary output of either yes, or no. \n",
        "3. Balancing the data, separating each department into its own dataframe for assessment, prioritizing the 10 selected assessment columns for outcome relevance."
      ]
    },
    {
      "cell_type": "markdown",
      "metadata": {},
      "source": []
    }
  ],
  "metadata": {
    "colab": {
      "provenance": []
    },
    "kernelspec": {
      "display_name": "Python 3",
      "language": "python",
      "name": "python3"
    },
    "language_info": {
      "codemirror_mode": {
        "name": "ipython",
        "version": 3
      },
      "file_extension": ".py",
      "mimetype": "text/x-python",
      "name": "python",
      "nbconvert_exporter": "python",
      "pygments_lexer": "ipython3",
      "version": "3.10.13"
    },
    "vscode": {
      "interpreter": {
        "hash": "31f2aee4e71d21fbe5cf8b01ff0e069b9275f58929596ceb00d14d90e3e16cd6"
      }
    }
  },
  "nbformat": 4,
  "nbformat_minor": 0
}
